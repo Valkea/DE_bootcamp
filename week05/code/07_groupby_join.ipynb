{
 "cells": [
  {
   "cell_type": "code",
   "execution_count": 1,
   "id": "81abe327",
   "metadata": {},
   "outputs": [],
   "source": [
    "import pyspark\n",
    "from pyspark.sql import SparkSession"
   ]
  },
  {
   "cell_type": "code",
   "execution_count": 2,
   "id": "185bd2b3",
   "metadata": {},
   "outputs": [
    {
     "name": "stderr",
     "output_type": "stream",
     "text": [
      "Setting default log level to \"WARN\".\n",
      "To adjust logging level use sc.setLogLevel(newLevel). For SparkR, use setLogLevel(newLevel).\n"
     ]
    },
    {
     "name": "stdout",
     "output_type": "stream",
     "text": [
      "23/02/24 16:29:35 WARN NativeCodeLoader: Unable to load native-hadoop library for your platform... using builtin-java classes where applicable\n"
     ]
    }
   ],
   "source": [
    "spark = SparkSession.builder \\\n",
    "    .master(\"local[*]\") \\\n",
    "    .appName('test') \\\n",
    "    .getOrCreate()"
   ]
  },
  {
   "cell_type": "markdown",
   "id": "e7abcac4",
   "metadata": {},
   "source": [
    "#### Let's prepare the Green revenue report"
   ]
  },
  {
   "cell_type": "code",
   "execution_count": 3,
   "id": "39afe15e",
   "metadata": {},
   "outputs": [
    {
     "name": "stderr",
     "output_type": "stream",
     "text": [
      "                                                                                \r"
     ]
    }
   ],
   "source": [
    "df_green = spark.read.parquet('data/pq/green/*/*') # data/pq/green/all_years/all_months"
   ]
  },
  {
   "cell_type": "code",
   "execution_count": 4,
   "id": "38e85986",
   "metadata": {},
   "outputs": [],
   "source": [
    "df_green.createOrReplaceTempView('green_data')"
   ]
  },
  {
   "cell_type": "code",
   "execution_count": 5,
   "id": "0567fda0",
   "metadata": {},
   "outputs": [],
   "source": [
    "df_green_result = spark.sql(\"\"\"\n",
    "    SELECT \n",
    "    \n",
    "    date_trunc('hour', lpep_pickup_datetime) AS hour, \n",
    "    PULocationID AS zone,\n",
    "    \n",
    "    SUM(total_amount) AS amount,\n",
    "    COUNT(1) AS number_records\n",
    "\n",
    "    FROM green_data\n",
    "    WHERE lpep_pickup_datetime >= '2020-01-01 00:00:00'\n",
    "    GROUP BY 1,2\n",
    "    ORDER BY 1,2\n",
    "\"\"\")"
   ]
  },
  {
   "cell_type": "raw",
   "id": "1dc8acce",
   "metadata": {},
   "source": [
    "df_green_result.show()"
   ]
  },
  {
   "cell_type": "code",
   "execution_count": 6,
   "id": "25f96345",
   "metadata": {},
   "outputs": [
    {
     "name": "stderr",
     "output_type": "stream",
     "text": [
      "                                                                                \r"
     ]
    }
   ],
   "source": [
    "df_green_result \\\n",
    "    .repartition(20) \\\n",
    "    .write.parquet('data/report/revenue/green/', mode='overwrite')"
   ]
  },
  {
   "cell_type": "markdown",
   "id": "a9166a3f",
   "metadata": {},
   "source": [
    "#### Let's prepare the Yellow revenue report"
   ]
  },
  {
   "cell_type": "code",
   "execution_count": 7,
   "id": "e3f0f4f9",
   "metadata": {},
   "outputs": [],
   "source": [
    "df_yellow = spark.read.parquet('data/pq/yellow/*/*') # data/pq/yellow/all_years/all_months"
   ]
  },
  {
   "cell_type": "code",
   "execution_count": 8,
   "id": "81db7071",
   "metadata": {},
   "outputs": [],
   "source": [
    "df_yellow.createOrReplaceTempView('yellow_data')"
   ]
  },
  {
   "cell_type": "code",
   "execution_count": 9,
   "id": "2cc45f9b",
   "metadata": {},
   "outputs": [],
   "source": [
    "df_yellow_result = spark.sql(\"\"\"\n",
    "    SELECT \n",
    "    \n",
    "    date_trunc('hour', tpep_pickup_datetime) AS hour, \n",
    "    PULocationID AS zone,\n",
    "    \n",
    "    SUM(total_amount) AS amount,\n",
    "    COUNT(1) AS number_records\n",
    "\n",
    "    FROM yellow_data\n",
    "    WHERE tpep_pickup_datetime >= '2020-01-01 00:00:00'\n",
    "    GROUP BY 1,2\n",
    "    ORDER BY 1,2\n",
    "\"\"\")"
   ]
  },
  {
   "cell_type": "raw",
   "id": "3fcbe24c",
   "metadata": {},
   "source": [
    "df_yellow_result.show()"
   ]
  },
  {
   "cell_type": "code",
   "execution_count": 10,
   "id": "21a16ebc",
   "metadata": {},
   "outputs": [
    {
     "name": "stderr",
     "output_type": "stream",
     "text": [
      "                                                                                \r"
     ]
    }
   ],
   "source": [
    "df_yellow_result \\\n",
    "    .repartition(20) \\\n",
    "    .write.parquet('data/report/revenue/yellow/', mode='overwrite')"
   ]
  },
  {
   "cell_type": "markdown",
   "id": "4de6dff2",
   "metadata": {},
   "source": [
    "#### Let's play with JOINS"
   ]
  },
  {
   "cell_type": "code",
   "execution_count": 24,
   "id": "74198b1c",
   "metadata": {},
   "outputs": [],
   "source": [
    "df_green_revenue = spark.read.parquet('data/report/revenue/green/')\n",
    "df_yellow_revenue = spark.read.parquet('data/report/revenue/yellow/')"
   ]
  },
  {
   "cell_type": "code",
   "execution_count": 25,
   "id": "638a7cb9",
   "metadata": {},
   "outputs": [],
   "source": [
    "df_join_green = df_green_revenue \\\n",
    "    .withColumnRenamed('amount', 'green_amount') \\\n",
    "    .withColumnRenamed('number_records', 'green_number_records')\n",
    "\n",
    "df_join_yellow = df_yellow_revenue \\\n",
    "    .withColumnRenamed('amount', 'yellow_amount') \\\n",
    "    .withColumnRenamed('number_records', 'yellow_number_records')"
   ]
  },
  {
   "cell_type": "code",
   "execution_count": 26,
   "id": "2220b476",
   "metadata": {},
   "outputs": [],
   "source": [
    "df_join = df_join_green.join(df_join_yellow, on=['hour', 'zone'], how='outer')"
   ]
  },
  {
   "cell_type": "code",
   "execution_count": 27,
   "id": "3a3980c9",
   "metadata": {},
   "outputs": [
    {
     "name": "stderr",
     "output_type": "stream",
     "text": [
      "[Stage 53:=============================>                            (2 + 2) / 4]\r"
     ]
    },
    {
     "name": "stdout",
     "output_type": "stream",
     "text": [
      "+-------------------+----+------------------+--------------------+------------------+---------------------+\n",
      "|               hour|zone|      green_amount|green_number_records|     yellow_amount|yellow_number_records|\n",
      "+-------------------+----+------------------+--------------------+------------------+---------------------+\n",
      "|2020-01-01 00:00:00|   3|              null|                null|              25.0|                    1|\n",
      "|2020-01-01 00:00:00|   4|              null|                null|1004.3000000000002|                   57|\n",
      "|2020-01-01 00:00:00|   7| 769.7299999999996|                  45| 455.1700000000001|                   38|\n",
      "|2020-01-01 00:00:00|  12|              null|                null|             107.0|                    6|\n",
      "|2020-01-01 00:00:00|  37|            175.67|                   6|161.60999999999999|                    7|\n",
      "|2020-01-01 00:00:00|  40|168.97999999999996|                   8|             89.97|                    5|\n",
      "|2020-01-01 00:00:00|  45|              null|                null| 732.4800000000002|                   42|\n",
      "|2020-01-01 00:00:00|  47|              13.3|                   1|               8.3|                    1|\n",
      "|2020-01-01 00:00:00|  51|              17.8|                   2|              31.0|                    1|\n",
      "|2020-01-01 00:00:00|  62|             15.95|                   1|             61.43|                    1|\n",
      "|2020-01-01 00:00:00|  68|              null|                null| 7825.070000000012|                  396|\n",
      "|2020-01-01 00:00:00|  73|              null|                null|              17.3|                    1|\n",
      "|2020-01-01 00:00:00|  74|317.09000000000015|                  24| 586.2100000000002|                   47|\n",
      "|2020-01-01 00:00:00|  77| 75.99000000000001|                   2|            134.24|                    3|\n",
      "|2020-01-01 00:00:00|  80|364.32000000000005|                  13|             371.4|                   20|\n",
      "|2020-01-01 00:00:00|  83|              94.1|                   7|               9.8|                    1|\n",
      "|2020-01-01 00:00:00|  88|              null|                null| 823.8000000000002|                   36|\n",
      "|2020-01-01 00:00:00|  89|              11.3|                   1|             48.16|                    2|\n",
      "|2020-01-01 00:00:00|  94| 64.24000000000001|                   3|              13.3|                    1|\n",
      "|2020-01-01 00:00:00|  95|202.20000000000002|                  15|               6.3|                    1|\n",
      "+-------------------+----+------------------+--------------------+------------------+---------------------+\n",
      "only showing top 20 rows\n",
      "\n"
     ]
    },
    {
     "name": "stderr",
     "output_type": "stream",
     "text": [
      "\r",
      "[Stage 56:>                                                         (0 + 1) / 1]\r",
      "\r",
      "                                                                                \r"
     ]
    }
   ],
   "source": [
    "df_join.show()"
   ]
  },
  {
   "cell_type": "code",
   "execution_count": 28,
   "id": "bdc93302",
   "metadata": {},
   "outputs": [
    {
     "name": "stderr",
     "output_type": "stream",
     "text": [
      "                                                                                \r"
     ]
    }
   ],
   "source": [
    "df_join \\\n",
    "    .repartition(20) \\\n",
    "    .write.parquet('data/report/revenue/total', mode='overwrite')"
   ]
  },
  {
   "cell_type": "markdown",
   "id": "50d87885",
   "metadata": {},
   "source": [
    "### XXX"
   ]
  },
  {
   "cell_type": "code",
   "execution_count": 42,
   "id": "1d5c9358",
   "metadata": {},
   "outputs": [],
   "source": [
    "df_join_read = spark.read.parquet('data/report/revenue/total/')"
   ]
  },
  {
   "cell_type": "code",
   "execution_count": 43,
   "id": "419a1740",
   "metadata": {},
   "outputs": [],
   "source": [
    "df_zones = spark.read.parquet('data/zones/')"
   ]
  },
  {
   "cell_type": "raw",
   "id": "b2e5c9e8",
   "metadata": {},
   "source": [
    "df_zones = df_zones.withColumnRenamed('LocationID', 'zone')"
   ]
  },
  {
   "cell_type": "code",
   "execution_count": 44,
   "id": "0701e7f1",
   "metadata": {},
   "outputs": [
    {
     "name": "stdout",
     "output_type": "stream",
     "text": [
      "+----------+-------------+--------------------+------------+\n",
      "|LocationID|      Borough|                Zone|service_zone|\n",
      "+----------+-------------+--------------------+------------+\n",
      "|         1|          EWR|      Newark Airport|         EWR|\n",
      "|         2|       Queens|         Jamaica Bay|   Boro Zone|\n",
      "|         3|        Bronx|Allerton/Pelham G...|   Boro Zone|\n",
      "|         4|    Manhattan|       Alphabet City| Yellow Zone|\n",
      "|         5|Staten Island|       Arden Heights|   Boro Zone|\n",
      "|         6|Staten Island|Arrochar/Fort Wad...|   Boro Zone|\n",
      "|         7|       Queens|             Astoria|   Boro Zone|\n",
      "|         8|       Queens|        Astoria Park|   Boro Zone|\n",
      "|         9|       Queens|          Auburndale|   Boro Zone|\n",
      "|        10|       Queens|        Baisley Park|   Boro Zone|\n",
      "|        11|     Brooklyn|          Bath Beach|   Boro Zone|\n",
      "|        12|    Manhattan|        Battery Park| Yellow Zone|\n",
      "|        13|    Manhattan|   Battery Park City| Yellow Zone|\n",
      "|        14|     Brooklyn|           Bay Ridge|   Boro Zone|\n",
      "|        15|       Queens|Bay Terrace/Fort ...|   Boro Zone|\n",
      "|        16|       Queens|             Bayside|   Boro Zone|\n",
      "|        17|     Brooklyn|             Bedford|   Boro Zone|\n",
      "|        18|        Bronx|        Bedford Park|   Boro Zone|\n",
      "|        19|       Queens|           Bellerose|   Boro Zone|\n",
      "|        20|        Bronx|             Belmont|   Boro Zone|\n",
      "+----------+-------------+--------------------+------------+\n",
      "only showing top 20 rows\n",
      "\n"
     ]
    }
   ],
   "source": [
    "df_zones.show()"
   ]
  },
  {
   "cell_type": "code",
   "execution_count": 51,
   "id": "ab96e996",
   "metadata": {},
   "outputs": [],
   "source": [
    "df_join2 = df_join_read.join(df_zones, df_zones.LocationID == df_join_read.zone, how='inner')"
   ]
  },
  {
   "cell_type": "code",
   "execution_count": 52,
   "id": "44a1d922",
   "metadata": {},
   "outputs": [
    {
     "name": "stdout",
     "output_type": "stream",
     "text": [
      "+-------------------+----+------------+--------------------+------------------+---------------------+---------+--------------------+------------+\n",
      "|               hour|zone|green_amount|green_number_records|     yellow_amount|yellow_number_records|  Borough|                Zone|service_zone|\n",
      "+-------------------+----+------------+--------------------+------------------+---------------------+---------+--------------------+------------+\n",
      "|2021-07-23 05:00:00| 107|        null|                null|            266.18|                   13|Manhattan|            Gramercy| Yellow Zone|\n",
      "|2020-08-01 05:00:00| 259|        null|                null|              73.5|                    1|    Bronx|  Woodlawn/Wakefield|   Boro Zone|\n",
      "|2020-10-30 13:00:00| 262|        null|                null|           1170.12|                   72|Manhattan|      Yorkville East| Yellow Zone|\n",
      "|2020-10-10 00:00:00| 164|        null|                null| 646.6199999999999|                   36|Manhattan|       Midtown South| Yellow Zone|\n",
      "|2020-02-01 17:00:00|  11|       22.78|                   1|              null|                 null| Brooklyn|          Bath Beach|   Boro Zone|\n",
      "|2021-01-05 19:00:00| 209|        null|                null| 97.30999999999999|                    4|Manhattan|             Seaport| Yellow Zone|\n",
      "|2020-10-08 11:00:00| 144|        null|                null|            222.01|                    9|Manhattan| Little Italy/NoLiTa| Yellow Zone|\n",
      "|2020-08-02 10:00:00| 188|        null|                null|              36.0|                    1| Brooklyn|Prospect-Lefferts...|   Boro Zone|\n",
      "|2020-01-16 16:00:00| 195|        null|                null|             73.42|                    1| Brooklyn|            Red Hook|   Boro Zone|\n",
      "|2021-05-07 13:00:00| 182|       72.69|                   2|              null|                 null|    Bronx|         Parkchester|   Boro Zone|\n",
      "|2020-02-01 05:00:00|  77|       18.48|                   1|              null|                 null| Brooklyn|East New York/Pen...|   Boro Zone|\n",
      "|2020-11-21 04:00:00| 255|        null|                null|               9.8|                    1| Brooklyn|Williamsburg (Nor...|   Boro Zone|\n",
      "|2020-12-09 02:00:00| 264|        null|                null|              18.8|                    1|  Unknown|                  NV|         N/A|\n",
      "|2021-05-21 04:00:00| 100|        null|                null|159.31000000000003|                    6|Manhattan|    Garment District| Yellow Zone|\n",
      "|2021-03-15 19:00:00|  17|        11.3|                   1|              null|                 null| Brooklyn|             Bedford|   Boro Zone|\n",
      "|2021-07-13 17:00:00|  67|       43.67|                   1|              null|                 null| Brooklyn|       Dyker Heights|   Boro Zone|\n",
      "|2020-04-23 09:00:00| 219|        null|                null|             18.83|                    1|   Queens|Springfield Garde...|   Boro Zone|\n",
      "|2020-01-12 16:00:00|  13|        null|                null| 1895.289999999999|                   91|Manhattan|   Battery Park City| Yellow Zone|\n",
      "|2021-06-17 13:00:00| 198|        null|                null|             35.04|                    1|   Queens|           Ridgewood|   Boro Zone|\n",
      "|2020-08-25 02:00:00| 174|        null|                null|              62.7|                    1|    Bronx|             Norwood|   Boro Zone|\n",
      "+-------------------+----+------------+--------------------+------------------+---------------------+---------+--------------------+------------+\n",
      "only showing top 20 rows\n",
      "\n"
     ]
    }
   ],
   "source": [
    "df_join2.drop('LocationID').show()"
   ]
  },
  {
   "cell_type": "code",
   "execution_count": null,
   "id": "4bdd3a83",
   "metadata": {},
   "outputs": [],
   "source": []
  }
 ],
 "metadata": {
  "kernelspec": {
   "display_name": "Python 3 (ipykernel)",
   "language": "python",
   "name": "python3"
  },
  "language_info": {
   "codemirror_mode": {
    "name": "ipython",
    "version": 3
   },
   "file_extension": ".py",
   "mimetype": "text/x-python",
   "name": "python",
   "nbconvert_exporter": "python",
   "pygments_lexer": "ipython3",
   "version": "3.9.13"
  }
 },
 "nbformat": 4,
 "nbformat_minor": 5
}
