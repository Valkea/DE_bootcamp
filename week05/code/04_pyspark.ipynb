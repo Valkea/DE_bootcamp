{
 "cells": [
  {
   "cell_type": "code",
   "execution_count": 15,
   "id": "69a087f2",
   "metadata": {},
   "outputs": [],
   "source": [
    "from pathlib import Path\n",
    "\n",
    "import pandas as pd\n",
    "\n",
    "import pyspark\n",
    "from pyspark.sql import SparkSession"
   ]
  },
  {
   "cell_type": "markdown",
   "id": "3f7ea3f6",
   "metadata": {},
   "source": [
    "#### Let's initialize spark (with all CPU --> *)"
   ]
  },
  {
   "cell_type": "code",
   "execution_count": 2,
   "id": "73e780a8",
   "metadata": {},
   "outputs": [
    {
     "name": "stderr",
     "output_type": "stream",
     "text": [
      "Setting default log level to \"WARN\".\n",
      "To adjust logging level use sc.setLogLevel(newLevel). For SparkR, use setLogLevel(newLevel).\n"
     ]
    },
    {
     "name": "stdout",
     "output_type": "stream",
     "text": [
      "23/02/23 13:29:15 WARN NativeCodeLoader: Unable to load native-hadoop library for your platform... using builtin-java classes where applicable\n",
      "23/02/23 13:29:16 WARN Utils: Service 'SparkUI' could not bind on port 4040. Attempting port 4041.\n"
     ]
    }
   ],
   "source": [
    "spark = SparkSession.builder \\\n",
    "    .master(\"local[*]\") \\\n",
    "    .appName('test') \\\n",
    "    .getOrCreate()"
   ]
  },
  {
   "cell_type": "markdown",
   "id": "a33ddcd0",
   "metadata": {},
   "source": [
    "#### Let's download the dataset and check the number of lines"
   ]
  },
  {
   "cell_type": "raw",
   "id": "29e6387c",
   "metadata": {},
   "source": [
    "!wget https://github.com/DataTalksClub/nyc-tlc-data/releases/download/fhvhv/fhvhv_tripdata_2021-01.csv.gz -P 'data'"
   ]
  },
  {
   "cell_type": "raw",
   "id": "667f6cb2",
   "metadata": {},
   "source": [
    "!wc -l 'data/fhvhv_tripdata_2021-01.csv.gz'"
   ]
  },
  {
   "cell_type": "markdown",
   "id": "a1e3bff2",
   "metadata": {},
   "source": [
    "#### Let's load the dataset into spark and try some basic commands "
   ]
  },
  {
   "cell_type": "code",
   "execution_count": 3,
   "id": "fe3384bd",
   "metadata": {},
   "outputs": [],
   "source": [
    "df = spark.read \\\n",
    "    .option(\"header\", \"true\") \\\n",
    "    .csv(str(Path('data','fhvhv_tripdata_2021-01.csv.gz')))"
   ]
  },
  {
   "cell_type": "code",
   "execution_count": 4,
   "id": "3ca201ed",
   "metadata": {},
   "outputs": [
    {
     "name": "stdout",
     "output_type": "stream",
     "text": [
      "+-----------------+--------------------+-------------------+-------------------+------------+------------+-------+\n",
      "|hvfhs_license_num|dispatching_base_num|    pickup_datetime|   dropoff_datetime|PULocationID|DOLocationID|SR_Flag|\n",
      "+-----------------+--------------------+-------------------+-------------------+------------+------------+-------+\n",
      "|           HV0003|              B02682|2021-01-01 00:33:44|2021-01-01 00:49:07|         230|         166|   null|\n",
      "|           HV0003|              B02682|2021-01-01 00:55:19|2021-01-01 01:18:21|         152|         167|   null|\n",
      "|           HV0003|              B02764|2021-01-01 00:23:56|2021-01-01 00:38:05|         233|         142|   null|\n",
      "|           HV0003|              B02764|2021-01-01 00:42:51|2021-01-01 00:45:50|         142|         143|   null|\n",
      "|           HV0003|              B02764|2021-01-01 00:48:14|2021-01-01 01:08:42|         143|          78|   null|\n",
      "|           HV0005|              B02510|2021-01-01 00:06:59|2021-01-01 00:43:01|          88|          42|   null|\n",
      "|           HV0005|              B02510|2021-01-01 00:50:00|2021-01-01 01:04:57|          42|         151|   null|\n",
      "|           HV0003|              B02764|2021-01-01 00:14:30|2021-01-01 00:50:27|          71|         226|   null|\n",
      "|           HV0003|              B02875|2021-01-01 00:22:54|2021-01-01 00:30:20|         112|         255|   null|\n",
      "|           HV0003|              B02875|2021-01-01 00:40:12|2021-01-01 00:53:31|         255|         232|   null|\n",
      "|           HV0003|              B02875|2021-01-01 00:56:45|2021-01-01 01:17:42|         232|         198|   null|\n",
      "|           HV0003|              B02835|2021-01-01 00:29:04|2021-01-01 00:36:27|         113|          48|   null|\n",
      "|           HV0003|              B02835|2021-01-01 00:48:56|2021-01-01 00:59:12|         239|          75|   null|\n",
      "|           HV0004|              B02800|2021-01-01 00:15:24|2021-01-01 00:38:31|         181|         237|   null|\n",
      "|           HV0004|              B02800|2021-01-01 00:45:00|2021-01-01 01:06:45|         236|          68|   null|\n",
      "|           HV0003|              B02682|2021-01-01 00:11:53|2021-01-01 00:18:06|         256|         148|   null|\n",
      "|           HV0003|              B02682|2021-01-01 00:28:31|2021-01-01 00:41:40|          79|          80|   null|\n",
      "|           HV0003|              B02682|2021-01-01 00:50:49|2021-01-01 00:55:59|          17|         217|   null|\n",
      "|           HV0005|              B02510|2021-01-01 00:08:40|2021-01-01 00:39:39|          62|          29|   null|\n",
      "|           HV0003|              B02836|2021-01-01 00:53:48|2021-01-01 01:11:40|          22|          22|   null|\n",
      "+-----------------+--------------------+-------------------+-------------------+------------+------------+-------+\n",
      "only showing top 20 rows\n",
      "\n"
     ]
    }
   ],
   "source": [
    "df.show()"
   ]
  },
  {
   "cell_type": "code",
   "execution_count": 5,
   "id": "370bebe6",
   "metadata": {},
   "outputs": [
    {
     "data": {
      "text/plain": [
       "[Row(hvfhs_license_num='HV0003', dispatching_base_num='B02682', pickup_datetime='2021-01-01 00:33:44', dropoff_datetime='2021-01-01 00:49:07', PULocationID='230', DOLocationID='166', SR_Flag=None),\n",
       " Row(hvfhs_license_num='HV0003', dispatching_base_num='B02682', pickup_datetime='2021-01-01 00:55:19', dropoff_datetime='2021-01-01 01:18:21', PULocationID='152', DOLocationID='167', SR_Flag=None),\n",
       " Row(hvfhs_license_num='HV0003', dispatching_base_num='B02764', pickup_datetime='2021-01-01 00:23:56', dropoff_datetime='2021-01-01 00:38:05', PULocationID='233', DOLocationID='142', SR_Flag=None),\n",
       " Row(hvfhs_license_num='HV0003', dispatching_base_num='B02764', pickup_datetime='2021-01-01 00:42:51', dropoff_datetime='2021-01-01 00:45:50', PULocationID='142', DOLocationID='143', SR_Flag=None),\n",
       " Row(hvfhs_license_num='HV0003', dispatching_base_num='B02764', pickup_datetime='2021-01-01 00:48:14', dropoff_datetime='2021-01-01 01:08:42', PULocationID='143', DOLocationID='78', SR_Flag=None)]"
      ]
     },
     "execution_count": 5,
     "metadata": {},
     "output_type": "execute_result"
    }
   ],
   "source": [
    "df.head(5)"
   ]
  },
  {
   "cell_type": "markdown",
   "id": "45cf7180",
   "metadata": {},
   "source": [
    "#### Spark does't try to infer the types and use STRING as default type"
   ]
  },
  {
   "cell_type": "code",
   "execution_count": 7,
   "id": "4a083c94",
   "metadata": {},
   "outputs": [
    {
     "data": {
      "text/plain": [
       "StructType([StructField('hvfhs_license_num', StringType(), True), StructField('dispatching_base_num', StringType(), True), StructField('pickup_datetime', StringType(), True), StructField('dropoff_datetime', StringType(), True), StructField('PULocationID', StringType(), True), StructField('DOLocationID', StringType(), True), StructField('SR_Flag', StringType(), True)])"
      ]
     },
     "execution_count": 7,
     "metadata": {},
     "output_type": "execute_result"
    }
   ],
   "source": [
    "df.schema"
   ]
  },
  {
   "cell_type": "markdown",
   "id": "b765be86",
   "metadata": {},
   "source": [
    "#### Se we will add an option to infer the types"
   ]
  },
  {
   "cell_type": "code",
   "execution_count": 29,
   "id": "8d19a25a",
   "metadata": {},
   "outputs": [
    {
     "name": "stderr",
     "output_type": "stream",
     "text": [
      "                                                                                \r"
     ]
    }
   ],
   "source": [
    "df = spark.read \\\n",
    "    .option(\"header\", \"true\") \\\n",
    "    .option(\"inferSchema\" , \"true\") \\\n",
    "    .csv(str(Path('data','fhvhv_tripdata_2021-01.csv.gz')))"
   ]
  },
  {
   "cell_type": "code",
   "execution_count": 31,
   "id": "8df3ec9c",
   "metadata": {},
   "outputs": [
    {
     "data": {
      "text/plain": [
       "[Row(hvfhs_license_num='HV0003', dispatching_base_num='B02682', pickup_datetime=datetime.datetime(2021, 1, 1, 0, 33, 44), dropoff_datetime=datetime.datetime(2021, 1, 1, 0, 49, 7), PULocationID=230, DOLocationID=166, SR_Flag=None),\n",
       " Row(hvfhs_license_num='HV0003', dispatching_base_num='B02682', pickup_datetime=datetime.datetime(2021, 1, 1, 0, 55, 19), dropoff_datetime=datetime.datetime(2021, 1, 1, 1, 18, 21), PULocationID=152, DOLocationID=167, SR_Flag=None),\n",
       " Row(hvfhs_license_num='HV0003', dispatching_base_num='B02764', pickup_datetime=datetime.datetime(2021, 1, 1, 0, 23, 56), dropoff_datetime=datetime.datetime(2021, 1, 1, 0, 38, 5), PULocationID=233, DOLocationID=142, SR_Flag=None),\n",
       " Row(hvfhs_license_num='HV0003', dispatching_base_num='B02764', pickup_datetime=datetime.datetime(2021, 1, 1, 0, 42, 51), dropoff_datetime=datetime.datetime(2021, 1, 1, 0, 45, 50), PULocationID=142, DOLocationID=143, SR_Flag=None),\n",
       " Row(hvfhs_license_num='HV0003', dispatching_base_num='B02764', pickup_datetime=datetime.datetime(2021, 1, 1, 0, 48, 14), dropoff_datetime=datetime.datetime(2021, 1, 1, 1, 8, 42), PULocationID=143, DOLocationID=78, SR_Flag=None)]"
      ]
     },
     "execution_count": 31,
     "metadata": {},
     "output_type": "execute_result"
    }
   ],
   "source": [
    "df.head(5)"
   ]
  },
  {
   "cell_type": "code",
   "execution_count": 32,
   "id": "d96bb3e8",
   "metadata": {},
   "outputs": [
    {
     "data": {
      "text/plain": [
       "StructType([StructField('hvfhs_license_num', StringType(), True), StructField('dispatching_base_num', StringType(), True), StructField('pickup_datetime', TimestampType(), True), StructField('dropoff_datetime', TimestampType(), True), StructField('PULocationID', IntegerType(), True), StructField('DOLocationID', IntegerType(), True), StructField('SR_Flag', IntegerType(), True)])"
      ]
     },
     "execution_count": 32,
     "metadata": {},
     "output_type": "execute_result"
    }
   ],
   "source": [
    "df.schema"
   ]
  },
  {
   "cell_type": "raw",
   "id": "9a858fdc",
   "metadata": {},
   "source": [
    "StructType([\n",
    "    StructField('hvfhs_license_num', StringType(), True),\n",
    "    StructField('dispatching_base_num', StringType(), True), \n",
    "    StructField('pickup_datetime', TimestampType(), True), \n",
    "    StructField('dropoff_datetime', TimestampType(), True), \n",
    "    StructField('PULocationID', IntegerType(), True), \n",
    "    StructField('DOLocationID', IntegerType(), True), \n",
    "    StructField('SR_Flag', IntegerType(), True)\n",
    "])"
   ]
  },
  {
   "cell_type": "markdown",
   "id": "a6141ccb",
   "metadata": {},
   "source": [
    "#### But we can also infer the columns types using a small subset of the dataset and Pandas"
   ]
  },
  {
   "cell_type": "code",
   "execution_count": 41,
   "id": "53593943",
   "metadata": {},
   "outputs": [],
   "source": [
    "# Let's unzip the gzip file\n",
    "!gunzip -k data/fhvhv_tripdata_2021-01.csv.gz"
   ]
  },
  {
   "cell_type": "code",
   "execution_count": 42,
   "id": "cec02246",
   "metadata": {},
   "outputs": [],
   "source": [
    "# Let's extract a subset of the whole (too large for pandas) CSV file\n",
    "!head -n 10 data/fhvhv_tripdata_2021-01.csv > data/header.csv"
   ]
  },
  {
   "cell_type": "code",
   "execution_count": 43,
   "id": "6edc0095",
   "metadata": {},
   "outputs": [],
   "source": [
    "# Let's delete the full extracted CSV file\n",
    "!rm data/fhvhv_tripdata_2021-01.csv"
   ]
  },
  {
   "cell_type": "code",
   "execution_count": 44,
   "id": "0647ac49",
   "metadata": {},
   "outputs": [],
   "source": [
    "df_pandas = pd.read_csv(\"data/header.csv\")"
   ]
  },
  {
   "cell_type": "code",
   "execution_count": 45,
   "id": "afe6c356",
   "metadata": {},
   "outputs": [
    {
     "data": {
      "text/plain": [
       "hvfhs_license_num        object\n",
       "dispatching_base_num     object\n",
       "pickup_datetime          object\n",
       "dropoff_datetime         object\n",
       "PULocationID              int64\n",
       "DOLocationID              int64\n",
       "SR_Flag                 float64\n",
       "dtype: object"
      ]
     },
     "execution_count": 45,
     "metadata": {},
     "output_type": "execute_result"
    }
   ],
   "source": [
    "df_pandas.dtypes"
   ]
  },
  {
   "cell_type": "code",
   "execution_count": 47,
   "id": "8408bca2",
   "metadata": {},
   "outputs": [
    {
     "data": {
      "text/plain": [
       "StructType([StructField('hvfhs_license_num', StringType(), True), StructField('dispatching_base_num', StringType(), True), StructField('pickup_datetime', StringType(), True), StructField('dropoff_datetime', StringType(), True), StructField('PULocationID', LongType(), True), StructField('DOLocationID', LongType(), True), StructField('SR_Flag', DoubleType(), True)])"
      ]
     },
     "execution_count": 47,
     "metadata": {},
     "output_type": "execute_result"
    }
   ],
   "source": [
    "# Let's load the pandas dataframe into spark and see the schema\n",
    "spark.createDataFrame(df_pandas).schema"
   ]
  },
  {
   "cell_type": "raw",
   "id": "7ca1f875",
   "metadata": {},
   "source": [
    "StructType([\n",
    "    StructField('hvfhs_license_num', StringType(), True), \n",
    "    StructField('dispatching_base_num', StringType(), True), \n",
    "    StructField('pickup_datetime', StringType(), True), \n",
    "    StructField('dropoff_datetime', StringType(), True), \n",
    "    StructField('PULocationID', LongType(), True), \n",
    "    StructField('DOLocationID', LongType(), True), \n",
    "    StructField('SR_Flag', DoubleType(), True)\n",
    "])"
   ]
  },
  {
   "cell_type": "markdown",
   "id": "8969cc28",
   "metadata": {},
   "source": [
    "#### Obviously the types are not correctly detected by Pandas so we will have to modify them..."
   ]
  },
  {
   "cell_type": "code",
   "execution_count": 57,
   "id": "f8d86f77",
   "metadata": {},
   "outputs": [],
   "source": [
    "from pyspark.sql.types import StructType, StructField, StringType, TimestampType, IntegerType, DoubleType"
   ]
  },
  {
   "cell_type": "code",
   "execution_count": 59,
   "id": "0187d53e",
   "metadata": {},
   "outputs": [],
   "source": [
    "new_schema = StructType([\n",
    "    StructField('hvfhs_license_num', StringType(), True), \n",
    "    StructField('dispatching_base_num', StringType(), True), \n",
    "    StructField('pickup_datetime', TimestampType(), True), \n",
    "    StructField('dropoff_datetime', TimestampType(), True), \n",
    "    StructField('PULocationID', IntegerType(), True), \n",
    "    StructField('DOLocationID', IntegerType(), True), \n",
    "    StructField('SR_Flag', DoubleType(), True)\n",
    "])"
   ]
  },
  {
   "cell_type": "code",
   "execution_count": 60,
   "id": "4c72c264",
   "metadata": {},
   "outputs": [],
   "source": [
    "df = spark.read \\\n",
    "    .option(\"header\", \"true\") \\\n",
    "    .schema(new_schema) \\\n",
    "    .csv(str(Path('data','fhvhv_tripdata_2021-01.csv.gz')))"
   ]
  },
  {
   "cell_type": "code",
   "execution_count": 62,
   "id": "719d3275",
   "metadata": {},
   "outputs": [
    {
     "data": {
      "text/plain": [
       "[Row(hvfhs_license_num='HV0003', dispatching_base_num='B02682', pickup_datetime=datetime.datetime(2021, 1, 1, 0, 33, 44), dropoff_datetime=datetime.datetime(2021, 1, 1, 0, 49, 7), PULocationID=230, DOLocationID=166, SR_Flag=None),\n",
       " Row(hvfhs_license_num='HV0003', dispatching_base_num='B02682', pickup_datetime=datetime.datetime(2021, 1, 1, 0, 55, 19), dropoff_datetime=datetime.datetime(2021, 1, 1, 1, 18, 21), PULocationID=152, DOLocationID=167, SR_Flag=None),\n",
       " Row(hvfhs_license_num='HV0003', dispatching_base_num='B02764', pickup_datetime=datetime.datetime(2021, 1, 1, 0, 23, 56), dropoff_datetime=datetime.datetime(2021, 1, 1, 0, 38, 5), PULocationID=233, DOLocationID=142, SR_Flag=None),\n",
       " Row(hvfhs_license_num='HV0003', dispatching_base_num='B02764', pickup_datetime=datetime.datetime(2021, 1, 1, 0, 42, 51), dropoff_datetime=datetime.datetime(2021, 1, 1, 0, 45, 50), PULocationID=142, DOLocationID=143, SR_Flag=None),\n",
       " Row(hvfhs_license_num='HV0003', dispatching_base_num='B02764', pickup_datetime=datetime.datetime(2021, 1, 1, 0, 48, 14), dropoff_datetime=datetime.datetime(2021, 1, 1, 1, 8, 42), PULocationID=143, DOLocationID=78, SR_Flag=None)]"
      ]
     },
     "execution_count": 62,
     "metadata": {},
     "output_type": "execute_result"
    }
   ],
   "source": [
    "df.head(5)"
   ]
  },
  {
   "cell_type": "code",
   "execution_count": 63,
   "id": "687e7fb7",
   "metadata": {},
   "outputs": [
    {
     "data": {
      "text/plain": [
       "StructType([StructField('hvfhs_license_num', StringType(), True), StructField('dispatching_base_num', StringType(), True), StructField('pickup_datetime', TimestampType(), True), StructField('dropoff_datetime', TimestampType(), True), StructField('PULocationID', IntegerType(), True), StructField('DOLocationID', IntegerType(), True), StructField('SR_Flag', DoubleType(), True)])"
      ]
     },
     "execution_count": 63,
     "metadata": {},
     "output_type": "execute_result"
    }
   ],
   "source": [
    "df.schema"
   ]
  },
  {
   "cell_type": "raw",
   "id": "94e45962",
   "metadata": {},
   "source": [
    "StructType([\n",
    "    StructField('hvfhs_license_num', StringType(), True), \n",
    "    StructField('dispatching_base_num', StringType(), True), \n",
    "    StructField('pickup_datetime', TimestampType(), True), \n",
    "    StructField('dropoff_datetime', TimestampType(), True), \n",
    "    StructField('PULocationID', IntegerType(), True), \n",
    "    StructField('DOLocationID', IntegerType(), True), \n",
    "    StructField('SR_Flag', DoubleType(), True)\n",
    "])"
   ]
  },
  {
   "cell_type": "markdown",
   "id": "7c671c45",
   "metadata": {},
   "source": [
    "## Spark Partitions\n",
    "\n",
    "There can be only one Executor from the Spark cluster per file. So if we keep ONE large file, we don't really use the power of spark and its multiple Executors...\n",
    "\n",
    "#### To solve this problem, we can split the file into several files using the Spark PARITIONS."
   ]
  },
  {
   "cell_type": "code",
   "execution_count": 64,
   "id": "b381951c",
   "metadata": {},
   "outputs": [],
   "source": [
    "df = df.repartition(24)"
   ]
  },
  {
   "cell_type": "markdown",
   "id": "d0312e6e",
   "metadata": {},
   "source": [
    "#### This command alone, doesn't do anything, but it's applied when using other commands"
   ]
  },
  {
   "cell_type": "code",
   "execution_count": 67,
   "id": "0dc1920d",
   "metadata": {},
   "outputs": [
    {
     "name": "stderr",
     "output_type": "stream",
     "text": [
      "                                                                                \r"
     ]
    }
   ],
   "source": [
    "df.write.parquet('data/fhv/2021/01/', mode=\"overwrite\")"
   ]
  },
  {
   "cell_type": "markdown",
   "id": "b52c2300",
   "metadata": {},
   "source": [
    "#### Now we can read the parquet files"
   ]
  },
  {
   "cell_type": "code",
   "execution_count": 68,
   "id": "17b3228a",
   "metadata": {},
   "outputs": [],
   "source": [
    "df = spark.read.parquet('data/fhv/2021/01/')"
   ]
  },
  {
   "cell_type": "code",
   "execution_count": 69,
   "id": "27b3689d",
   "metadata": {},
   "outputs": [
    {
     "name": "stdout",
     "output_type": "stream",
     "text": [
      "root\n",
      " |-- hvfhs_license_num: string (nullable = true)\n",
      " |-- dispatching_base_num: string (nullable = true)\n",
      " |-- pickup_datetime: timestamp (nullable = true)\n",
      " |-- dropoff_datetime: timestamp (nullable = true)\n",
      " |-- PULocationID: integer (nullable = true)\n",
      " |-- DOLocationID: integer (nullable = true)\n",
      " |-- SR_Flag: double (nullable = true)\n",
      "\n"
     ]
    }
   ],
   "source": [
    "df.printSchema()"
   ]
  },
  {
   "cell_type": "markdown",
   "id": "18c93600",
   "metadata": {},
   "source": [
    "# Basic commands (similar to pandas)"
   ]
  },
  {
   "cell_type": "markdown",
   "id": "1979d9a9",
   "metadata": {},
   "source": [
    "### Select some columns"
   ]
  },
  {
   "cell_type": "code",
   "execution_count": 74,
   "id": "5b2b6adb",
   "metadata": {},
   "outputs": [
    {
     "name": "stdout",
     "output_type": "stream",
     "text": [
      "+-------------------+-------------------+------------+------------+-----------------+\n",
      "|    pickup_datetime|   dropoff_datetime|PULocationID|DOLocationID|hvfhs_license_num|\n",
      "+-------------------+-------------------+------------+------------+-----------------+\n",
      "|2021-01-29 17:18:59|2021-01-29 17:35:54|         263|         162|           HV0004|\n",
      "|2021-01-08 13:45:06|2021-01-08 14:32:53|          95|          22|           HV0004|\n",
      "|2021-01-20 10:57:31|2021-01-20 11:20:45|         244|         262|           HV0004|\n",
      "|2021-01-26 19:29:44|2021-01-26 19:55:30|         137|         129|           HV0004|\n",
      "|2021-01-30 16:55:04|2021-01-30 17:00:33|         229|         233|           HV0004|\n",
      "|2021-01-12 10:51:03|2021-01-12 11:18:48|          76|         130|           HV0004|\n",
      "|2021-01-29 07:41:40|2021-01-29 08:03:07|         263|          13|           HV0004|\n",
      "|2021-01-24 23:30:27|2021-01-24 23:39:11|         132|          10|           HV0004|\n",
      "|2021-01-28 07:38:46|2021-01-28 08:15:34|         196|          13|           HV0004|\n",
      "|2021-01-26 06:45:19|2021-01-26 06:57:44|         140|         232|           HV0004|\n",
      "|2021-01-14 18:58:38|2021-01-14 19:23:07|         224|         195|           HV0004|\n",
      "|2021-01-15 14:10:30|2021-01-15 14:55:15|          48|         132|           HV0004|\n",
      "|2021-01-21 19:41:47|2021-01-21 20:09:04|         215|         155|           HV0004|\n",
      "|2021-01-09 21:57:47|2021-01-09 22:16:44|          76|          61|           HV0004|\n",
      "|2021-01-02 00:07:05|2021-01-02 00:25:31|         217|          77|           HV0004|\n",
      "|2021-01-29 18:21:22|2021-01-29 19:11:18|         167|         205|           HV0004|\n",
      "|2021-01-19 18:45:37|2021-01-19 19:06:57|          13|         141|           HV0004|\n",
      "|2021-01-23 22:13:13|2021-01-23 22:23:59|          41|         236|           HV0004|\n",
      "|2021-01-01 06:50:21|2021-01-01 07:07:02|         226|         263|           HV0004|\n",
      "|2021-01-15 10:26:20|2021-01-15 10:31:42|          17|          61|           HV0004|\n",
      "+-------------------+-------------------+------------+------------+-----------------+\n",
      "only showing top 20 rows\n",
      "\n"
     ]
    }
   ],
   "source": [
    "df.select('pickup_datetime', 'dropoff_datetime', 'PULocationID', 'DOLocationID', 'hvfhs_license_num') \\\n",
    "  .filter(df.hvfhs_license_num == 'HV0004') \\\n",
    "  .show()"
   ]
  },
  {
   "cell_type": "markdown",
   "id": "83a8bcc1",
   "metadata": {},
   "source": [
    "### Add a new columns and use SQL functions"
   ]
  },
  {
   "cell_type": "code",
   "execution_count": 75,
   "id": "94008fdd",
   "metadata": {},
   "outputs": [],
   "source": [
    "from pyspark.sql import functions as F"
   ]
  },
  {
   "cell_type": "code",
   "execution_count": 84,
   "id": "4afd42a0",
   "metadata": {},
   "outputs": [],
   "source": [
    "df_tmp = df \\\n",
    "    .withColumn('new_pickup_date', F.to_date(df.pickup_datetime)) \\\n",
    "    .withColumn('new_dropoff_date', F.to_date(df.dropoff_datetime))"
   ]
  },
  {
   "cell_type": "code",
   "execution_count": 85,
   "id": "f0497e27",
   "metadata": {},
   "outputs": [
    {
     "name": "stdout",
     "output_type": "stream",
     "text": [
      "+---------------+----------------+------------+------------+\n",
      "|new_pickup_date|new_dropoff_date|PULocationID|DOLocationID|\n",
      "+---------------+----------------+------------+------------+\n",
      "|     2021-01-20|      2021-01-20|         148|         188|\n",
      "|     2021-01-09|      2021-01-09|          15|         265|\n",
      "|     2021-01-24|      2021-01-24|          72|          97|\n",
      "+---------------+----------------+------------+------------+\n",
      "only showing top 3 rows\n",
      "\n"
     ]
    }
   ],
   "source": [
    "df_tmp \\\n",
    "    .select('new_pickup_date', 'new_dropoff_date', 'PULocationID', 'DOLocationID') \\\n",
    "    .show(3)"
   ]
  },
  {
   "cell_type": "markdown",
   "id": "0aad870d",
   "metadata": {},
   "source": [
    "### Create our own pyspark.sql.function (it will be converted to SQL and executed)"
   ]
  },
  {
   "cell_type": "code",
   "execution_count": 86,
   "id": "04107a7e",
   "metadata": {},
   "outputs": [],
   "source": [
    "def crazy_stuff(base_num):\n",
    "    num = int(base_num[1:])\n",
    "    if num % 7 == 0:\n",
    "        return f's/{num:03x}'\n",
    "    elif num % 3 == 0:\n",
    "        return f'a/{num:03x}'\n",
    "    else:\n",
    "        return f'e/{num:03x}'"
   ]
  },
  {
   "cell_type": "code",
   "execution_count": 87,
   "id": "8594facb",
   "metadata": {},
   "outputs": [
    {
     "data": {
      "text/plain": [
       "'a/a7a'"
      ]
     },
     "execution_count": 87,
     "metadata": {},
     "output_type": "execute_result"
    }
   ],
   "source": [
    "crazy_stuff('B02682')"
   ]
  },
  {
   "cell_type": "code",
   "execution_count": 88,
   "id": "e8fe91a9",
   "metadata": {},
   "outputs": [],
   "source": [
    "crazy_stuff_udf = F.udf(crazy_stuff, returnType=StringType())"
   ]
  },
  {
   "cell_type": "markdown",
   "id": "f0275b5e",
   "metadata": {},
   "source": [
    "#### Let's create a new dataframe column with this crazy_stuff function"
   ]
  },
  {
   "cell_type": "code",
   "execution_count": 90,
   "id": "ca82038a",
   "metadata": {},
   "outputs": [],
   "source": [
    "df_tmp = df \\\n",
    "    .withColumn('new_pickup_date', F.to_date(df.pickup_datetime)) \\\n",
    "    .withColumn('new_dropoff_date', F.to_date(df.dropoff_datetime)) \\\n",
    "    .withColumn('new_dispatching_base_num', crazy_stuff_udf(df.dispatching_base_num))"
   ]
  },
  {
   "cell_type": "code",
   "execution_count": 91,
   "id": "8aed2273",
   "metadata": {},
   "outputs": [
    {
     "name": "stderr",
     "output_type": "stream",
     "text": [
      "\r",
      "[Stage 24:>                                                         (0 + 1) / 1]\r"
     ]
    },
    {
     "name": "stdout",
     "output_type": "stream",
     "text": [
      "+---------------+----------------+------------+------------+------------------------+\n",
      "|new_pickup_date|new_dropoff_date|PULocationID|DOLocationID|new_dispatching_base_num|\n",
      "+---------------+----------------+------------+------------+------------------------+\n",
      "|     2021-01-20|      2021-01-20|         148|         188|                   e/b35|\n",
      "|     2021-01-09|      2021-01-09|          15|         265|                   e/b14|\n",
      "|     2021-01-24|      2021-01-24|          72|          97|                   s/b3d|\n",
      "+---------------+----------------+------------+------------+------------------------+\n",
      "only showing top 3 rows\n",
      "\n"
     ]
    },
    {
     "name": "stderr",
     "output_type": "stream",
     "text": [
      "\r",
      "                                                                                \r"
     ]
    }
   ],
   "source": [
    "df_tmp \\\n",
    "    .select('new_pickup_date', 'new_dropoff_date', 'PULocationID', 'DOLocationID', 'new_dispatching_base_num') \\\n",
    "    .show(3)"
   ]
  },
  {
   "cell_type": "markdown",
   "id": "7cefff1c",
   "metadata": {},
   "source": [
    "#### The advantage over using SQL directly is that we can create very complicated functions.\n",
    "#### Furthermore we can run Tests on those functions whereas it's not really possible on SQL functions"
   ]
  },
  {
   "cell_type": "code",
   "execution_count": null,
   "id": "ba269b11",
   "metadata": {},
   "outputs": [],
   "source": []
  }
 ],
 "metadata": {
  "kernelspec": {
   "display_name": "Python 3 (ipykernel)",
   "language": "python",
   "name": "python3"
  },
  "language_info": {
   "codemirror_mode": {
    "name": "ipython",
    "version": 3
   },
   "file_extension": ".py",
   "mimetype": "text/x-python",
   "name": "python",
   "nbconvert_exporter": "python",
   "pygments_lexer": "ipython3",
   "version": "3.9.13"
  }
 },
 "nbformat": 4,
 "nbformat_minor": 5
}
