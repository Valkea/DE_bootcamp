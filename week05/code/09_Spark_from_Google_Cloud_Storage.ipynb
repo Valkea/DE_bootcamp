{
 "cells": [
  {
   "cell_type": "code",
   "execution_count": 2,
   "id": "507bb331",
   "metadata": {},
   "outputs": [],
   "source": [
    "import pyspark\n",
    "from pyspark.sql import SparkSession\n",
    "from pyspark.conf import SparkConf\n",
    "from pyspark.context import SparkContext"
   ]
  },
  {
   "cell_type": "markdown",
   "id": "c8a63238",
   "metadata": {},
   "source": [
    "### Let's configure de GCS connector"
   ]
  },
  {
   "cell_type": "code",
   "execution_count": 3,
   "id": "969f82d5",
   "metadata": {},
   "outputs": [],
   "source": [
    "credentials_location = '/home/valkea/.google/credentials/lexical-passkey-375922-eec6cf60b4f3.json'\n",
    "\n",
    "conf = SparkConf() \\\n",
    "    .setMaster('local[*]') \\\n",
    "    .setAppName('test') \\\n",
    "    .set(\"spark.jars\", \"./lib/gcs-connector-hadoop3-latest.jar\") \\\n",
    "    .set(\"spark.hadoop.google.cloud.auth.service.account.enable\", \"true\") \\\n",
    "    .set(\"spark.hadoop.google.cloud.auth.service.account.json.keyfile\", credentials_location)"
   ]
  },
  {
   "cell_type": "code",
   "execution_count": 4,
   "id": "d5e57e40",
   "metadata": {},
   "outputs": [
    {
     "name": "stdout",
     "output_type": "stream",
     "text": [
      "23/02/24 19:16:34 WARN NativeCodeLoader: Unable to load native-hadoop library for your platform... using builtin-java classes where applicable\n"
     ]
    },
    {
     "name": "stderr",
     "output_type": "stream",
     "text": [
      "Setting default log level to \"WARN\".\n",
      "To adjust logging level use sc.setLogLevel(newLevel). For SparkR, use setLogLevel(newLevel).\n"
     ]
    }
   ],
   "source": [
    "sc = SparkContext(conf=conf)\n",
    "\n",
    "hadoop_conf = sc._jsc.hadoopConfiguration()\n",
    "\n",
    "hadoop_conf.set(\"fs.AbstractFileSystem.gs.impl\",  \"com.google.cloud.hadoop.fs.gcs.GoogleHadoopFS\")\n",
    "hadoop_conf.set(\"fs.gs.impl\", \"com.google.cloud.hadoop.fs.gcs.GoogleHadoopFileSystem\")\n",
    "hadoop_conf.set(\"fs.gs.auth.service.account.json.keyfile\", credentials_location)\n",
    "hadoop_conf.set(\"fs.gs.auth.service.account.enable\", \"true\")"
   ]
  },
  {
   "cell_type": "raw",
   "id": "dcc7b43b",
   "metadata": {},
   "source": [
    "spark = SparkSession.builder \\\n",
    "    .master(\"local[*]\") \\\n",
    "    .appName('test') \\\n",
    "    .getOrCreate()"
   ]
  },
  {
   "cell_type": "code",
   "execution_count": 7,
   "id": "a7dbdb43",
   "metadata": {},
   "outputs": [],
   "source": [
    "spark = SparkSession.builder \\\n",
    "    .config(conf=sc.getConf()) \\\n",
    "    .getOrCreate()"
   ]
  },
  {
   "cell_type": "markdown",
   "id": "1bba9ff9",
   "metadata": {},
   "source": [
    "### Let's push the data to the GCP (we are suppose to pull, be for the demo we will push first)"
   ]
  },
  {
   "cell_type": "code",
   "execution_count": 1,
   "id": "7b3407f7",
   "metadata": {},
   "outputs": [
    {
     "name": "stdout",
     "output_type": "stream",
     "text": [
      "Copying file://data/pq/green/2021/04/._SUCCESS.crc [Content-Type=application/octet-stream]...\n",
      "Copying file://data/pq/green/2021/04/.part-00001-5d4709a8-caef-403c-b030-b11f2f5037a2-c000.snappy.parquet.crc [Content-Type=application/octet-stream]...\n",
      "Copying file://data/pq/green/2021/04/.part-00003-5d4709a8-caef-403c-b030-b11f2f5037a2-c000.snappy.parquet.crc [Content-Type=application/octet-stream]...\n",
      "Copying file://data/pq/green/2021/04/_SUCCESS [Content-Type=application/octet-stream]...\n",
      "Copying file://data/pq/green/2021/04/part-00001-5d4709a8-caef-403c-b030-b11f2f5037a2-c000.snappy.parquet [Content-Type=application/octet-stream]...\n",
      "Copying file://data/pq/green/2021/04/.part-00000-5d4709a8-caef-403c-b030-b11f2f5037a2-c000.snappy.parquet.crc [Content-Type=application/octet-stream]...\n",
      "Copying file://data/pq/green/2021/06/._SUCCESS.crc [Content-Type=application/octet-stream]...\n",
      "Copying file://data/pq/green/2021/06/.part-00002-c0d34729-9dd6-4892-8642-0b7bdc6d5a3c-c000.snappy.parquet.crc [Content-Type=application/octet-stream]...\n",
      "Copying file://data/pq/green/2021/04/part-00002-5d4709a8-caef-403c-b030-b11f2f5037a2-c000.snappy.parquet [Content-Type=application/octet-stream]...\n",
      "Copying file://data/pq/green/2021/06/part-00002-c0d34729-9dd6-4892-8642-0b7bdc6d5a3c-c000.snappy.parquet [Content-Type=application/octet-stream]...\n",
      "Copying file://data/pq/green/2021/04/part-00000-5d4709a8-caef-403c-b030-b11f2f5037a2-c000.snappy.parquet [Content-Type=application/octet-stream]...\n",
      "Copying file://data/pq/green/2021/04/.part-00002-5d4709a8-caef-403c-b030-b11f2f5037a2-c000.snappy.parquet.crc [Content-Type=application/octet-stream]...\n",
      "Copying file://data/pq/green/2021/06/part-00000-c0d34729-9dd6-4892-8642-0b7bdc6d5a3c-c000.snappy.parquet [Content-Type=application/octet-stream]...\n",
      "Copying file://data/pq/green/2021/06/_SUCCESS [Content-Type=application/octet-stream]...\n",
      "Copying file://data/pq/green/2021/06/part-00001-c0d34729-9dd6-4892-8642-0b7bdc6d5a3c-c000.snappy.parquet [Content-Type=application/octet-stream]...\n",
      "Copying file://data/pq/green/2021/06/.part-00001-c0d34729-9dd6-4892-8642-0b7bdc6d5a3c-c000.snappy.parquet.crc [Content-Type=application/octet-stream]...\n",
      "Copying file://data/pq/green/2021/04/part-00003-5d4709a8-caef-403c-b030-b11f2f5037a2-c000.snappy.parquet [Content-Type=application/octet-stream]...\n",
      "Copying file://data/pq/green/2021/06/part-00003-c0d34729-9dd6-4892-8642-0b7bdc6d5a3c-c000.snappy.parquet [Content-Type=application/octet-stream]...\n",
      "Copying file://data/pq/green/2021/06/.part-00000-c0d34729-9dd6-4892-8642-0b7bdc6d5a3c-c000.snappy.parquet.crc [Content-Type=application/octet-stream]...\n",
      "Copying file://data/pq/green/2021/06/.part-00003-c0d34729-9dd6-4892-8642-0b7bdc6d5a3c-c000.snappy.parquet.crc [Content-Type=application/octet-stream]...\n",
      "Copying file://data/pq/green/2021/03/._SUCCESS.crc [Content-Type=application/octet-stream]...\n",
      "Copying file://data/pq/green/2021/03/.part-00001-c7ce5702-d9e1-4b05-b32c-0067ac9f217d-c000.snappy.parquet.crc [Content-Type=application/octet-stream]...\n",
      "Copying file://data/pq/green/2021/03/.part-00002-c7ce5702-d9e1-4b05-b32c-0067ac9f217d-c000.snappy.parquet.crc [Content-Type=application/octet-stream]...\n",
      "Copying file://data/pq/green/2021/03/_SUCCESS [Content-Type=application/octet-stream]...\n",
      "Copying file://data/pq/green/2021/03/.part-00000-c7ce5702-d9e1-4b05-b32c-0067ac9f217d-c000.snappy.parquet.crc [Content-Type=application/octet-stream]...\n",
      "Copying file://data/pq/green/2021/03/part-00001-c7ce5702-d9e1-4b05-b32c-0067ac9f217d-c000.snappy.parquet [Content-Type=application/octet-stream]...\n",
      "Copying file://data/pq/green/2021/03/.part-00003-c7ce5702-d9e1-4b05-b32c-0067ac9f217d-c000.snappy.parquet.crc [Content-Type=application/octet-stream]...\n",
      "Copying file://data/pq/green/2021/03/part-00000-c7ce5702-d9e1-4b05-b32c-0067ac9f217d-c000.snappy.parquet [Content-Type=application/octet-stream]...\n",
      "Copying file://data/pq/green/2021/03/part-00002-c7ce5702-d9e1-4b05-b32c-0067ac9f217d-c000.snappy.parquet [Content-Type=application/octet-stream]...\n",
      "Copying file://data/pq/green/2021/03/part-00003-c7ce5702-d9e1-4b05-b32c-0067ac9f217d-c000.snappy.parquet [Content-Type=application/octet-stream]...\n",
      "Copying file://data/pq/green/2021/05/._SUCCESS.crc [Content-Type=application/octet-stream]...\n",
      "Copying file://data/pq/green/2021/05/.part-00001-20680ddb-9f36-451c-8c5f-7679503abdc2-c000.snappy.parquet.crc [Content-Type=application/octet-stream]...\n",
      "Copying file://data/pq/green/2021/05/.part-00000-20680ddb-9f36-451c-8c5f-7679503abdc2-c000.snappy.parquet.crc [Content-Type=application/octet-stream]...\n",
      "Copying file://data/pq/green/2021/05/part-00003-20680ddb-9f36-451c-8c5f-7679503abdc2-c000.snappy.parquet [Content-Type=application/octet-stream]...\n",
      "Copying file://data/pq/green/2021/05/.part-00003-20680ddb-9f36-451c-8c5f-7679503abdc2-c000.snappy.parquet.crc [Content-Type=application/octet-stream]...\n",
      "Copying file://data/pq/green/2021/05/_SUCCESS [Content-Type=application/octet-stream]...\n",
      "Copying file://data/pq/green/2021/05/part-00001-20680ddb-9f36-451c-8c5f-7679503abdc2-c000.snappy.parquet [Content-Type=application/octet-stream]...\n",
      "Copying file://data/pq/green/2021/05/.part-00002-20680ddb-9f36-451c-8c5f-7679503abdc2-c000.snappy.parquet.crc [Content-Type=application/octet-stream]...\n",
      "Copying file://data/pq/green/2021/05/part-00000-20680ddb-9f36-451c-8c5f-7679503abdc2-c000.snappy.parquet [Content-Type=application/octet-stream]...\n",
      "Copying file://data/pq/green/2021/05/part-00002-20680ddb-9f36-451c-8c5f-7679503abdc2-c000.snappy.parquet [Content-Type=application/octet-stream]...\n",
      "Copying file://data/pq/green/2021/02/part-00001-eb15b90b-e50e-4933-984d-76892020ab19-c000.snappy.parquet [Content-Type=application/octet-stream]...\n",
      "Copying file://data/pq/green/2021/02/.part-00002-eb15b90b-e50e-4933-984d-76892020ab19-c000.snappy.parquet.crc [Content-Type=application/octet-stream]...\n",
      "Copying file://data/pq/green/2021/02/._SUCCESS.crc [Content-Type=application/octet-stream]...\n",
      "Copying file://data/pq/green/2021/02/_SUCCESS [Content-Type=application/octet-stream]...\n",
      "Copying file://data/pq/green/2021/02/.part-00000-eb15b90b-e50e-4933-984d-76892020ab19-c000.snappy.parquet.crc [Content-Type=application/octet-stream]...\n",
      "Copying file://data/pq/green/2021/02/part-00000-eb15b90b-e50e-4933-984d-76892020ab19-c000.snappy.parquet [Content-Type=application/octet-stream]...\n",
      "Copying file://data/pq/green/2021/02/.part-00001-eb15b90b-e50e-4933-984d-76892020ab19-c000.snappy.parquet.crc [Content-Type=application/octet-stream]...\n",
      "Copying file://data/pq/green/2021/02/part-00003-eb15b90b-e50e-4933-984d-76892020ab19-c000.snappy.parquet [Content-Type=application/octet-stream]...\n",
      "Copying file://data/pq/green/2021/02/part-00002-eb15b90b-e50e-4933-984d-76892020ab19-c000.snappy.parquet [Content-Type=application/octet-stream]...\n",
      "Copying file://data/pq/green/2021/02/.part-00003-eb15b90b-e50e-4933-984d-76892020ab19-c000.snappy.parquet.crc [Content-Type=application/octet-stream]...\n",
      "Copying file://data/pq/green/2021/01/._SUCCESS.crc [Content-Type=application/octet-stream]...\n",
      "Copying file://data/pq/green/2021/01/part-00002-c2dddb82-5c9a-4206-8ca8-45829904664a-c000.snappy.parquet [Content-Type=application/octet-stream]...\n",
      "Copying file://data/pq/green/2021/01/part-00001-c2dddb82-5c9a-4206-8ca8-45829904664a-c000.snappy.parquet [Content-Type=application/octet-stream]...\n",
      "Copying file://data/pq/green/2021/01/_SUCCESS [Content-Type=application/octet-stream]...\n",
      "Copying file://data/pq/green/2021/01/.part-00001-c2dddb82-5c9a-4206-8ca8-45829904664a-c000.snappy.parquet.crc [Content-Type=application/octet-stream]...\n",
      "Copying file://data/pq/green/2021/01/.part-00000-c2dddb82-5c9a-4206-8ca8-45829904664a-c000.snappy.parquet.crc [Content-Type=application/octet-stream]...\n",
      "Copying file://data/pq/green/2021/01/.part-00003-c2dddb82-5c9a-4206-8ca8-45829904664a-c000.snappy.parquet.crc [Content-Type=application/octet-stream]...\n",
      "Copying file://data/pq/green/2021/01/.part-00002-c2dddb82-5c9a-4206-8ca8-45829904664a-c000.snappy.parquet.crc [Content-Type=application/octet-stream]...\n",
      "Copying file://data/pq/green/2021/01/part-00003-c2dddb82-5c9a-4206-8ca8-45829904664a-c000.snappy.parquet [Content-Type=application/octet-stream]...\n",
      "Copying file://data/pq/green/2021/01/part-00000-c2dddb82-5c9a-4206-8ca8-45829904664a-c000.snappy.parquet [Content-Type=application/octet-stream]...\n",
      "Copying file://data/pq/green/2021/08/._SUCCESS.crc [Content-Type=application/octet-stream]...\n"
     ]
    },
    {
     "name": "stdout",
     "output_type": "stream",
     "text": [
      "Copying file://data/pq/green/2021/08/_SUCCESS [Content-Type=application/octet-stream]...\n",
      "Copying file://data/pq/green/2021/08/.part-00000-14669217-1509-4be4-a3ab-dbee4571c187-c000.snappy.parquet.crc [Content-Type=application/octet-stream]...\n",
      "Copying file://data/pq/green/2021/08/part-00000-14669217-1509-4be4-a3ab-dbee4571c187-c000.snappy.parquet [Content-Type=application/octet-stream]...\n",
      "Copying file://data/pq/green/2021/07/.part-00000-b02813cf-b09c-4d08-93b1-92bb5c1a68d4-c000.snappy.parquet.crc [Content-Type=application/octet-stream]...\n",
      "Copying file://data/pq/green/2021/07/._SUCCESS.crc [Content-Type=application/octet-stream]...\n",
      "Copying file://data/pq/green/2021/07/part-00000-b02813cf-b09c-4d08-93b1-92bb5c1a68d4-c000.snappy.parquet [Content-Type=application/octet-stream]...\n",
      "Copying file://data/pq/green/2021/07/_SUCCESS [Content-Type=application/octet-stream]...\n",
      "Copying file://data/pq/green/2021/07/part-00002-b02813cf-b09c-4d08-93b1-92bb5c1a68d4-c000.snappy.parquet [Content-Type=application/octet-stream]...\n",
      "Copying file://data/pq/green/2021/07/.part-00001-b02813cf-b09c-4d08-93b1-92bb5c1a68d4-c000.snappy.parquet.crc [Content-Type=application/octet-stream]...\n",
      "Copying file://data/pq/green/2021/07/part-00001-b02813cf-b09c-4d08-93b1-92bb5c1a68d4-c000.snappy.parquet [Content-Type=application/octet-stream]...\n",
      "Copying file://data/pq/green/2021/07/.part-00002-b02813cf-b09c-4d08-93b1-92bb5c1a68d4-c000.snappy.parquet.crc [Content-Type=application/octet-stream]...\n",
      "Copying file://data/pq/green/2021/07/part-00003-b02813cf-b09c-4d08-93b1-92bb5c1a68d4-c000.snappy.parquet [Content-Type=application/octet-stream]...\n",
      "Copying file://data/pq/green/2021/07/.part-00003-b02813cf-b09c-4d08-93b1-92bb5c1a68d4-c000.snappy.parquet.crc [Content-Type=application/octet-stream]...\n",
      "Copying file://data/pq/green/2020/11/part-00003-31d19846-da97-4b92-951b-cab298e84235-c000.snappy.parquet [Content-Type=application/octet-stream]...\n",
      "Copying file://data/pq/green/2020/11/._SUCCESS.crc [Content-Type=application/octet-stream]...\n",
      "Copying file://data/pq/green/2020/11/.part-00000-31d19846-da97-4b92-951b-cab298e84235-c000.snappy.parquet.crc [Content-Type=application/octet-stream]...\n",
      "Copying file://data/pq/green/2020/11/_SUCCESS [Content-Type=application/octet-stream]...\n",
      "Copying file://data/pq/green/2020/11/.part-00001-31d19846-da97-4b92-951b-cab298e84235-c000.snappy.parquet.crc [Content-Type=application/octet-stream]...\n",
      "Copying file://data/pq/green/2020/11/part-00002-31d19846-da97-4b92-951b-cab298e84235-c000.snappy.parquet [Content-Type=application/octet-stream]...\n",
      "Copying file://data/pq/green/2020/11/.part-00002-31d19846-da97-4b92-951b-cab298e84235-c000.snappy.parquet.crc [Content-Type=application/octet-stream]...\n",
      "Copying file://data/pq/green/2020/11/part-00001-31d19846-da97-4b92-951b-cab298e84235-c000.snappy.parquet [Content-Type=application/octet-stream]...\n",
      "Copying file://data/pq/green/2020/11/part-00000-31d19846-da97-4b92-951b-cab298e84235-c000.snappy.parquet [Content-Type=application/octet-stream]...\n",
      "Copying file://data/pq/green/2020/11/.part-00003-31d19846-da97-4b92-951b-cab298e84235-c000.snappy.parquet.crc [Content-Type=application/octet-stream]...\n",
      "Copying file://data/pq/green/2020/04/._SUCCESS.crc [Content-Type=application/octet-stream]...\n",
      "Copying file://data/pq/green/2020/04/.part-00003-5faea404-7a77-4e88-a513-99257562dee9-c000.snappy.parquet.crc [Content-Type=application/octet-stream]...\n",
      "Copying file://data/pq/green/2020/04/part-00002-5faea404-7a77-4e88-a513-99257562dee9-c000.snappy.parquet [Content-Type=application/octet-stream]...\n",
      "Copying file://data/pq/green/2020/04/_SUCCESS [Content-Type=application/octet-stream]...\n",
      "Copying file://data/pq/green/2020/04/.part-00001-5faea404-7a77-4e88-a513-99257562dee9-c000.snappy.parquet.crc [Content-Type=application/octet-stream]...\n",
      "Copying file://data/pq/green/2020/04/part-00001-5faea404-7a77-4e88-a513-99257562dee9-c000.snappy.parquet [Content-Type=application/octet-stream]...\n",
      "Copying file://data/pq/green/2020/04/.part-00002-5faea404-7a77-4e88-a513-99257562dee9-c000.snappy.parquet.crc [Content-Type=application/octet-stream]...\n",
      "Copying file://data/pq/green/2020/04/.part-00000-5faea404-7a77-4e88-a513-99257562dee9-c000.snappy.parquet.crc [Content-Type=application/octet-stream]...\n",
      "Copying file://data/pq/green/2020/04/part-00003-5faea404-7a77-4e88-a513-99257562dee9-c000.snappy.parquet [Content-Type=application/octet-stream]...\n",
      "Copying file://data/pq/green/2020/04/part-00000-5faea404-7a77-4e88-a513-99257562dee9-c000.snappy.parquet [Content-Type=application/octet-stream]...\n",
      "Copying file://data/pq/green/2020/06/._SUCCESS.crc [Content-Type=application/octet-stream]...\n",
      "Copying file://data/pq/green/2020/06/.part-00002-22e8870e-b295-48db-a80c-16ad061d71ea-c000.snappy.parquet.crc [Content-Type=application/octet-stream]...\n",
      "Copying file://data/pq/green/2020/06/part-00001-22e8870e-b295-48db-a80c-16ad061d71ea-c000.snappy.parquet [Content-Type=application/octet-stream]...\n",
      "Copying file://data/pq/green/2020/06/_SUCCESS [Content-Type=application/octet-stream]...\n",
      "Copying file://data/pq/green/2020/06/.part-00001-22e8870e-b295-48db-a80c-16ad061d71ea-c000.snappy.parquet.crc [Content-Type=application/octet-stream]...\n",
      "Copying file://data/pq/green/2020/06/part-00003-22e8870e-b295-48db-a80c-16ad061d71ea-c000.snappy.parquet [Content-Type=application/octet-stream]...\n",
      "Copying file://data/pq/green/2020/06/part-00000-22e8870e-b295-48db-a80c-16ad061d71ea-c000.snappy.parquet [Content-Type=application/octet-stream]...\n",
      "Copying file://data/pq/green/2020/06/part-00002-22e8870e-b295-48db-a80c-16ad061d71ea-c000.snappy.parquet [Content-Type=application/octet-stream]...\n",
      "Copying file://data/pq/green/2020/06/.part-00003-22e8870e-b295-48db-a80c-16ad061d71ea-c000.snappy.parquet.crc [Content-Type=application/octet-stream]...\n",
      "Copying file://data/pq/green/2020/06/.part-00000-22e8870e-b295-48db-a80c-16ad061d71ea-c000.snappy.parquet.crc [Content-Type=application/octet-stream]...\n",
      "Copying file://data/pq/green/2020/10/._SUCCESS.crc [Content-Type=application/octet-stream]...\n",
      "Copying file://data/pq/green/2020/10/part-00001-79c02031-de8c-4354-8ef1-9a114b19db53-c000.snappy.parquet [Content-Type=application/octet-stream]...\n",
      "Copying file://data/pq/green/2020/10/.part-00001-79c02031-de8c-4354-8ef1-9a114b19db53-c000.snappy.parquet.crc [Content-Type=application/octet-stream]...\n",
      "Copying file://data/pq/green/2020/10/part-00000-79c02031-de8c-4354-8ef1-9a114b19db53-c000.snappy.parquet [Content-Type=application/octet-stream]...\n",
      "Copying file://data/pq/green/2020/10/_SUCCESS [Content-Type=application/octet-stream]...\n",
      "Copying file://data/pq/green/2020/10/.part-00000-79c02031-de8c-4354-8ef1-9a114b19db53-c000.snappy.parquet.crc [Content-Type=application/octet-stream]...\n",
      "Copying file://data/pq/green/2020/10/.part-00002-79c02031-de8c-4354-8ef1-9a114b19db53-c000.snappy.parquet.crc [Content-Type=application/octet-stream]...\n",
      "Copying file://data/pq/green/2020/10/.part-00003-79c02031-de8c-4354-8ef1-9a114b19db53-c000.snappy.parquet.crc [Content-Type=application/octet-stream]...\n",
      "Copying file://data/pq/green/2020/10/part-00002-79c02031-de8c-4354-8ef1-9a114b19db53-c000.snappy.parquet [Content-Type=application/octet-stream]...\n",
      "Copying file://data/pq/green/2020/10/part-00003-79c02031-de8c-4354-8ef1-9a114b19db53-c000.snappy.parquet [Content-Type=application/octet-stream]...\n",
      "Copying file://data/pq/green/2020/12/._SUCCESS.crc [Content-Type=application/octet-stream]...\n",
      "Copying file://data/pq/green/2020/12/part-00002-58426f8a-ad34-4bc5-944f-9df7378d64cd-c000.snappy.parquet [Content-Type=application/octet-stream]...\n",
      "Copying file://data/pq/green/2020/12/part-00000-58426f8a-ad34-4bc5-944f-9df7378d64cd-c000.snappy.parquet [Content-Type=application/octet-stream]...\n",
      "Copying file://data/pq/green/2020/12/.part-00002-58426f8a-ad34-4bc5-944f-9df7378d64cd-c000.snappy.parquet.crc [Content-Type=application/octet-stream]...\n",
      "Copying file://data/pq/green/2020/12/.part-00000-58426f8a-ad34-4bc5-944f-9df7378d64cd-c000.snappy.parquet.crc [Content-Type=application/octet-stream]...\n",
      "Copying file://data/pq/green/2020/12/part-00003-58426f8a-ad34-4bc5-944f-9df7378d64cd-c000.snappy.parquet [Content-Type=application/octet-stream]...\n",
      "Copying file://data/pq/green/2020/12/_SUCCESS [Content-Type=application/octet-stream]...\n"
     ]
    },
    {
     "name": "stdout",
     "output_type": "stream",
     "text": [
      "Copying file://data/pq/green/2020/12/.part-00003-58426f8a-ad34-4bc5-944f-9df7378d64cd-c000.snappy.parquet.crc [Content-Type=application/octet-stream]...\n",
      "Copying file://data/pq/green/2020/12/.part-00001-58426f8a-ad34-4bc5-944f-9df7378d64cd-c000.snappy.parquet.crc [Content-Type=application/octet-stream]...\n",
      "Copying file://data/pq/green/2020/12/part-00001-58426f8a-ad34-4bc5-944f-9df7378d64cd-c000.snappy.parquet [Content-Type=application/octet-stream]...\n",
      "Copying file://data/pq/green/2020/03/._SUCCESS.crc [Content-Type=application/octet-stream]...\n",
      "Copying file://data/pq/green/2020/03/part-00002-3debae8d-9b11-401c-b11e-08f064ed72ea-c000.snappy.parquet [Content-Type=application/octet-stream]...\n",
      "Copying file://data/pq/green/2020/03/part-00003-3debae8d-9b11-401c-b11e-08f064ed72ea-c000.snappy.parquet [Content-Type=application/octet-stream]...\n",
      "Copying file://data/pq/green/2020/03/_SUCCESS [Content-Type=application/octet-stream]...\n",
      "Copying file://data/pq/green/2020/03/part-00000-3debae8d-9b11-401c-b11e-08f064ed72ea-c000.snappy.parquet [Content-Type=application/octet-stream]...\n",
      "Copying file://data/pq/green/2020/03/part-00001-3debae8d-9b11-401c-b11e-08f064ed72ea-c000.snappy.parquet [Content-Type=application/octet-stream]...\n",
      "Copying file://data/pq/green/2020/03/.part-00003-3debae8d-9b11-401c-b11e-08f064ed72ea-c000.snappy.parquet.crc [Content-Type=application/octet-stream]...\n",
      "Copying file://data/pq/green/2020/03/.part-00000-3debae8d-9b11-401c-b11e-08f064ed72ea-c000.snappy.parquet.crc [Content-Type=application/octet-stream]...\n",
      "Copying file://data/pq/green/2020/03/.part-00002-3debae8d-9b11-401c-b11e-08f064ed72ea-c000.snappy.parquet.crc [Content-Type=application/octet-stream]...\n",
      "Copying file://data/pq/green/2020/03/.part-00001-3debae8d-9b11-401c-b11e-08f064ed72ea-c000.snappy.parquet.crc [Content-Type=application/octet-stream]...\n",
      "Copying file://data/pq/green/2020/05/._SUCCESS.crc [Content-Type=application/octet-stream]...\n",
      "Copying file://data/pq/green/2020/05/part-00000-8e1c80b0-e4ce-4abb-a582-0ad79f81ea13-c000.snappy.parquet [Content-Type=application/octet-stream]...\n",
      "Copying file://data/pq/green/2020/05/_SUCCESS [Content-Type=application/octet-stream]...\n",
      "Copying file://data/pq/green/2020/05/part-00003-8e1c80b0-e4ce-4abb-a582-0ad79f81ea13-c000.snappy.parquet [Content-Type=application/octet-stream]...\n",
      "Copying file://data/pq/green/2020/05/.part-00001-8e1c80b0-e4ce-4abb-a582-0ad79f81ea13-c000.snappy.parquet.crc [Content-Type=application/octet-stream]...\n",
      "Copying file://data/pq/green/2020/05/part-00002-8e1c80b0-e4ce-4abb-a582-0ad79f81ea13-c000.snappy.parquet [Content-Type=application/octet-stream]...\n",
      "Copying file://data/pq/green/2020/05/.part-00000-8e1c80b0-e4ce-4abb-a582-0ad79f81ea13-c000.snappy.parquet.crc [Content-Type=application/octet-stream]...\n",
      "Copying file://data/pq/green/2020/05/part-00001-8e1c80b0-e4ce-4abb-a582-0ad79f81ea13-c000.snappy.parquet [Content-Type=application/octet-stream]...\n",
      "Copying file://data/pq/green/2020/05/.part-00002-8e1c80b0-e4ce-4abb-a582-0ad79f81ea13-c000.snappy.parquet.crc [Content-Type=application/octet-stream]...\n",
      "Copying file://data/pq/green/2020/05/.part-00003-8e1c80b0-e4ce-4abb-a582-0ad79f81ea13-c000.snappy.parquet.crc [Content-Type=application/octet-stream]...\n",
      "Copying file://data/pq/green/2020/09/._SUCCESS.crc [Content-Type=application/octet-stream]...\n",
      "Copying file://data/pq/green/2020/09/.part-00000-a66707ee-3396-4818-af96-204ba8397f2f-c000.snappy.parquet.crc [Content-Type=application/octet-stream]...\n",
      "Copying file://data/pq/green/2020/09/.part-00001-a66707ee-3396-4818-af96-204ba8397f2f-c000.snappy.parquet.crc [Content-Type=application/octet-stream]...\n",
      "Copying file://data/pq/green/2020/09/part-00002-a66707ee-3396-4818-af96-204ba8397f2f-c000.snappy.parquet [Content-Type=application/octet-stream]...\n",
      "Copying file://data/pq/green/2020/09/_SUCCESS [Content-Type=application/octet-stream]...\n",
      "Copying file://data/pq/green/2020/09/part-00001-a66707ee-3396-4818-af96-204ba8397f2f-c000.snappy.parquet [Content-Type=application/octet-stream]...\n",
      "Copying file://data/pq/green/2020/09/.part-00002-a66707ee-3396-4818-af96-204ba8397f2f-c000.snappy.parquet.crc [Content-Type=application/octet-stream]...\n",
      "Copying file://data/pq/green/2020/09/part-00000-a66707ee-3396-4818-af96-204ba8397f2f-c000.snappy.parquet [Content-Type=application/octet-stream]...\n",
      "Copying file://data/pq/green/2020/09/.part-00003-a66707ee-3396-4818-af96-204ba8397f2f-c000.snappy.parquet.crc [Content-Type=application/octet-stream]...\n",
      "Copying file://data/pq/green/2020/09/part-00003-a66707ee-3396-4818-af96-204ba8397f2f-c000.snappy.parquet [Content-Type=application/octet-stream]...\n",
      "Copying file://data/pq/green/2020/02/._SUCCESS.crc [Content-Type=application/octet-stream]...\n",
      "Copying file://data/pq/green/2020/02/part-00003-92c35fee-59ba-417f-9206-7b72288ebb86-c000.snappy.parquet [Content-Type=application/octet-stream]...\n",
      "Copying file://data/pq/green/2020/02/.part-00000-92c35fee-59ba-417f-9206-7b72288ebb86-c000.snappy.parquet.crc [Content-Type=application/octet-stream]...\n",
      "Copying file://data/pq/green/2020/02/_SUCCESS [Content-Type=application/octet-stream]...\n",
      "Copying file://data/pq/green/2020/02/.part-00002-92c35fee-59ba-417f-9206-7b72288ebb86-c000.snappy.parquet.crc [Content-Type=application/octet-stream]...\n",
      "Copying file://data/pq/green/2020/02/.part-00001-92c35fee-59ba-417f-9206-7b72288ebb86-c000.snappy.parquet.crc [Content-Type=application/octet-stream]...\n",
      "Copying file://data/pq/green/2020/02/.part-00003-92c35fee-59ba-417f-9206-7b72288ebb86-c000.snappy.parquet.crc [Content-Type=application/octet-stream]...\n",
      "Copying file://data/pq/green/2020/02/part-00001-92c35fee-59ba-417f-9206-7b72288ebb86-c000.snappy.parquet [Content-Type=application/octet-stream]...\n",
      "Copying file://data/pq/green/2020/02/part-00002-92c35fee-59ba-417f-9206-7b72288ebb86-c000.snappy.parquet [Content-Type=application/octet-stream]...\n",
      "Copying file://data/pq/green/2020/01/._SUCCESS.crc [Content-Type=application/octet-stream]...\n",
      "Copying file://data/pq/green/2020/02/part-00000-92c35fee-59ba-417f-9206-7b72288ebb86-c000.snappy.parquet [Content-Type=application/octet-stream]...\n",
      "Copying file://data/pq/green/2020/01/part-00002-ee234d0e-9612-4bd2-9d12-65db4e072934-c000.snappy.parquet [Content-Type=application/octet-stream]...\n",
      "Copying file://data/pq/green/2020/01/part-00003-ee234d0e-9612-4bd2-9d12-65db4e072934-c000.snappy.parquet [Content-Type=application/octet-stream]...\n",
      "Copying file://data/pq/green/2020/01/.part-00000-ee234d0e-9612-4bd2-9d12-65db4e072934-c000.snappy.parquet.crc [Content-Type=application/octet-stream]...\n",
      "Copying file://data/pq/green/2020/01/part-00000-ee234d0e-9612-4bd2-9d12-65db4e072934-c000.snappy.parquet [Content-Type=application/octet-stream]...\n",
      "Copying file://data/pq/green/2020/01/_SUCCESS [Content-Type=application/octet-stream]...\n",
      "Copying file://data/pq/green/2020/01/.part-00003-ee234d0e-9612-4bd2-9d12-65db4e072934-c000.snappy.parquet.crc [Content-Type=application/octet-stream]...\n",
      "Copying file://data/pq/green/2020/01/.part-00001-ee234d0e-9612-4bd2-9d12-65db4e072934-c000.snappy.parquet.crc [Content-Type=application/octet-stream]...\n",
      "Copying file://data/pq/green/2020/08/._SUCCESS.crc [Content-Type=application/octet-stream]...\n",
      "Copying file://data/pq/green/2020/01/part-00001-ee234d0e-9612-4bd2-9d12-65db4e072934-c000.snappy.parquet [Content-Type=application/octet-stream]...\n",
      "Copying file://data/pq/green/2020/01/.part-00002-ee234d0e-9612-4bd2-9d12-65db4e072934-c000.snappy.parquet.crc [Content-Type=application/octet-stream]...\n",
      "Copying file://data/pq/green/2020/08/.part-00001-12fe2175-b3c9-4df3-a56c-c3b90cdaf662-c000.snappy.parquet.crc [Content-Type=application/octet-stream]...\n",
      "Copying file://data/pq/green/2020/08/_SUCCESS [Content-Type=application/octet-stream]...\n",
      "Copying file://data/pq/green/2020/08/part-00000-12fe2175-b3c9-4df3-a56c-c3b90cdaf662-c000.snappy.parquet [Content-Type=application/octet-stream]...\n",
      "Copying file://data/pq/green/2020/08/part-00001-12fe2175-b3c9-4df3-a56c-c3b90cdaf662-c000.snappy.parquet [Content-Type=application/octet-stream]...\n",
      "Copying file://data/pq/green/2020/08/part-00003-12fe2175-b3c9-4df3-a56c-c3b90cdaf662-c000.snappy.parquet [Content-Type=application/octet-stream]...\n"
     ]
    },
    {
     "name": "stdout",
     "output_type": "stream",
     "text": [
      "Copying file://data/pq/green/2020/08/.part-00000-12fe2175-b3c9-4df3-a56c-c3b90cdaf662-c000.snappy.parquet.crc [Content-Type=application/octet-stream]...\n",
      "Copying file://data/pq/green/2020/08/.part-00003-12fe2175-b3c9-4df3-a56c-c3b90cdaf662-c000.snappy.parquet.crc [Content-Type=application/octet-stream]...\n",
      "Copying file://data/pq/green/2020/08/.part-00002-12fe2175-b3c9-4df3-a56c-c3b90cdaf662-c000.snappy.parquet.crc [Content-Type=application/octet-stream]...\n",
      "Copying file://data/pq/green/2020/08/part-00002-12fe2175-b3c9-4df3-a56c-c3b90cdaf662-c000.snappy.parquet [Content-Type=application/octet-stream]...\n",
      "Copying file://data/pq/green/2020/07/._SUCCESS.crc [Content-Type=application/octet-stream]...\n",
      "Copying file://data/pq/green/2020/07/part-00001-fab96dfa-7f38-4c3d-9452-0da3983d8947-c000.snappy.parquet [Content-Type=application/octet-stream]...\n",
      "Copying file://data/pq/green/2020/07/.part-00000-fab96dfa-7f38-4c3d-9452-0da3983d8947-c000.snappy.parquet.crc [Content-Type=application/octet-stream]...\n",
      "Copying file://data/pq/green/2020/07/part-00003-fab96dfa-7f38-4c3d-9452-0da3983d8947-c000.snappy.parquet [Content-Type=application/octet-stream]...\n",
      "Copying file://data/pq/green/2020/07/part-00002-fab96dfa-7f38-4c3d-9452-0da3983d8947-c000.snappy.parquet [Content-Type=application/octet-stream]...\n",
      "Copying file://data/pq/green/2020/07/_SUCCESS [Content-Type=application/octet-stream]...\n",
      "Copying file://data/pq/green/2020/07/part-00000-fab96dfa-7f38-4c3d-9452-0da3983d8947-c000.snappy.parquet [Content-Type=application/octet-stream]...\n",
      "Copying file://data/pq/green/2020/07/.part-00001-fab96dfa-7f38-4c3d-9452-0da3983d8947-c000.snappy.parquet.crc [Content-Type=application/octet-stream]...\n",
      "Copying file://data/pq/green/2020/07/.part-00003-fab96dfa-7f38-4c3d-9452-0da3983d8947-c000.snappy.parquet.crc [Content-Type=application/octet-stream]...\n",
      "Copying file://data/pq/green/2020/07/.part-00002-fab96dfa-7f38-4c3d-9452-0da3983d8947-c000.snappy.parquet.crc [Content-Type=application/octet-stream]...\n",
      "Copying file://data/pq/yellow/2021/04/._SUCCESS.crc [Content-Type=application/octet-stream]...\n",
      "Copying file://data/pq/yellow/2021/04/part-00003-c1ca3efb-6a5f-40c8-8f02-ad885a3793d5-c000.snappy.parquet [Content-Type=application/octet-stream]...\n",
      "Copying file://data/pq/yellow/2021/04/part-00001-c1ca3efb-6a5f-40c8-8f02-ad885a3793d5-c000.snappy.parquet [Content-Type=application/octet-stream]...\n",
      "Copying file://data/pq/yellow/2021/04/.part-00002-c1ca3efb-6a5f-40c8-8f02-ad885a3793d5-c000.snappy.parquet.crc [Content-Type=application/octet-stream]...\n",
      "Copying file://data/pq/yellow/2021/04/part-00000-c1ca3efb-6a5f-40c8-8f02-ad885a3793d5-c000.snappy.parquet [Content-Type=application/octet-stream]...\n",
      "Copying file://data/pq/yellow/2021/04/_SUCCESS [Content-Type=application/octet-stream]...\n",
      "Copying file://data/pq/yellow/2021/04/part-00002-c1ca3efb-6a5f-40c8-8f02-ad885a3793d5-c000.snappy.parquet [Content-Type=application/octet-stream]...\n",
      "Copying file://data/pq/yellow/2021/04/.part-00003-c1ca3efb-6a5f-40c8-8f02-ad885a3793d5-c000.snappy.parquet.crc [Content-Type=application/octet-stream]...\n",
      "Copying file://data/pq/yellow/2021/04/.part-00000-c1ca3efb-6a5f-40c8-8f02-ad885a3793d5-c000.snappy.parquet.crc [Content-Type=application/octet-stream]...\n",
      "Copying file://data/pq/yellow/2021/04/.part-00001-c1ca3efb-6a5f-40c8-8f02-ad885a3793d5-c000.snappy.parquet.crc [Content-Type=application/octet-stream]...\n",
      "Copying file://data/pq/yellow/2021/06/._SUCCESS.crc [Content-Type=application/octet-stream]...\n",
      "Copying file://data/pq/yellow/2021/06/part-00002-0428aa41-5fc5-4ccd-985b-b1a31c8b1d23-c000.snappy.parquet [Content-Type=application/octet-stream]...\n",
      "Copying file://data/pq/yellow/2021/06/.part-00003-0428aa41-5fc5-4ccd-985b-b1a31c8b1d23-c000.snappy.parquet.crc [Content-Type=application/octet-stream]...\n",
      "Copying file://data/pq/yellow/2021/06/.part-00001-0428aa41-5fc5-4ccd-985b-b1a31c8b1d23-c000.snappy.parquet.crc [Content-Type=application/octet-stream]...\n",
      "Copying file://data/pq/yellow/2021/06/_SUCCESS [Content-Type=application/octet-stream]...\n",
      "Copying file://data/pq/yellow/2021/06/part-00001-0428aa41-5fc5-4ccd-985b-b1a31c8b1d23-c000.snappy.parquet [Content-Type=application/octet-stream]...\n",
      "Copying file://data/pq/yellow/2021/06/part-00000-0428aa41-5fc5-4ccd-985b-b1a31c8b1d23-c000.snappy.parquet [Content-Type=application/octet-stream]...\n",
      "Copying file://data/pq/yellow/2021/06/part-00003-0428aa41-5fc5-4ccd-985b-b1a31c8b1d23-c000.snappy.parquet [Content-Type=application/octet-stream]...\n",
      "Copying file://data/pq/yellow/2021/06/.part-00000-0428aa41-5fc5-4ccd-985b-b1a31c8b1d23-c000.snappy.parquet.crc [Content-Type=application/octet-stream]...\n",
      "Copying file://data/pq/yellow/2021/06/.part-00002-0428aa41-5fc5-4ccd-985b-b1a31c8b1d23-c000.snappy.parquet.crc [Content-Type=application/octet-stream]...\n",
      "Copying file://data/pq/yellow/2021/03/.part-00000-f817eae5-a62f-4efd-b155-b106a58681dd-c000.snappy.parquet.crc [Content-Type=application/octet-stream]...\n",
      "Copying file://data/pq/yellow/2021/03/._SUCCESS.crc [Content-Type=application/octet-stream]...\n",
      "Copying file://data/pq/yellow/2021/03/.part-00003-f817eae5-a62f-4efd-b155-b106a58681dd-c000.snappy.parquet.crc [Content-Type=application/octet-stream]...\n",
      "Copying file://data/pq/yellow/2021/03/part-00001-f817eae5-a62f-4efd-b155-b106a58681dd-c000.snappy.parquet [Content-Type=application/octet-stream]...\n",
      "Copying file://data/pq/yellow/2021/03/_SUCCESS [Content-Type=application/octet-stream]...\n",
      "Copying file://data/pq/yellow/2021/03/.part-00001-f817eae5-a62f-4efd-b155-b106a58681dd-c000.snappy.parquet.crc [Content-Type=application/octet-stream]...\n",
      "Copying file://data/pq/yellow/2021/03/.part-00002-f817eae5-a62f-4efd-b155-b106a58681dd-c000.snappy.parquet.crc [Content-Type=application/octet-stream]...\n",
      "Copying file://data/pq/yellow/2021/03/part-00002-f817eae5-a62f-4efd-b155-b106a58681dd-c000.snappy.parquet [Content-Type=application/octet-stream]...\n",
      "Copying file://data/pq/yellow/2021/03/part-00000-f817eae5-a62f-4efd-b155-b106a58681dd-c000.snappy.parquet [Content-Type=application/octet-stream]...\n",
      "Copying file://data/pq/yellow/2021/03/part-00003-f817eae5-a62f-4efd-b155-b106a58681dd-c000.snappy.parquet [Content-Type=application/octet-stream]...\n",
      "Copying file://data/pq/yellow/2021/05/._SUCCESS.crc [Content-Type=application/octet-stream]...\n",
      "Copying file://data/pq/yellow/2021/05/part-00002-64e83e19-87d3-4545-bb53-5851579cd652-c000.snappy.parquet [Content-Type=application/octet-stream]...\n",
      "Copying file://data/pq/yellow/2021/05/.part-00001-64e83e19-87d3-4545-bb53-5851579cd652-c000.snappy.parquet.crc [Content-Type=application/octet-stream]...\n",
      "Copying file://data/pq/yellow/2021/05/.part-00000-64e83e19-87d3-4545-bb53-5851579cd652-c000.snappy.parquet.crc [Content-Type=application/octet-stream]...\n",
      "Copying file://data/pq/yellow/2021/05/_SUCCESS [Content-Type=application/octet-stream]...\n",
      "Copying file://data/pq/yellow/2021/05/part-00000-64e83e19-87d3-4545-bb53-5851579cd652-c000.snappy.parquet [Content-Type=application/octet-stream]...\n",
      "Copying file://data/pq/yellow/2021/05/.part-00002-64e83e19-87d3-4545-bb53-5851579cd652-c000.snappy.parquet.crc [Content-Type=application/octet-stream]...\n",
      "Copying file://data/pq/yellow/2021/05/.part-00003-64e83e19-87d3-4545-bb53-5851579cd652-c000.snappy.parquet.crc [Content-Type=application/octet-stream]...\n",
      "Copying file://data/pq/yellow/2021/05/part-00003-64e83e19-87d3-4545-bb53-5851579cd652-c000.snappy.parquet [Content-Type=application/octet-stream]...\n",
      "Copying file://data/pq/yellow/2021/05/part-00001-64e83e19-87d3-4545-bb53-5851579cd652-c000.snappy.parquet [Content-Type=application/octet-stream]...\n",
      "Copying file://data/pq/yellow/2021/02/._SUCCESS.crc [Content-Type=application/octet-stream]...\n",
      "Copying file://data/pq/yellow/2021/02/part-00002-9ed48562-17f0-4c05-a644-b90132452413-c000.snappy.parquet [Content-Type=application/octet-stream]...\n",
      "Copying file://data/pq/yellow/2021/02/part-00001-9ed48562-17f0-4c05-a644-b90132452413-c000.snappy.parquet [Content-Type=application/octet-stream]...\n",
      "Copying file://data/pq/yellow/2021/02/part-00000-9ed48562-17f0-4c05-a644-b90132452413-c000.snappy.parquet [Content-Type=application/octet-stream]...\n"
     ]
    },
    {
     "name": "stdout",
     "output_type": "stream",
     "text": [
      "Copying file://data/pq/yellow/2021/02/_SUCCESS [Content-Type=application/octet-stream]...\n",
      "Copying file://data/pq/yellow/2021/02/.part-00001-9ed48562-17f0-4c05-a644-b90132452413-c000.snappy.parquet.crc [Content-Type=application/octet-stream]...\n",
      "Copying file://data/pq/yellow/2021/02/.part-00003-9ed48562-17f0-4c05-a644-b90132452413-c000.snappy.parquet.crc [Content-Type=application/octet-stream]...\n",
      "Copying file://data/pq/yellow/2021/02/.part-00000-9ed48562-17f0-4c05-a644-b90132452413-c000.snappy.parquet.crc [Content-Type=application/octet-stream]...\n",
      "Copying file://data/pq/yellow/2021/02/.part-00002-9ed48562-17f0-4c05-a644-b90132452413-c000.snappy.parquet.crc [Content-Type=application/octet-stream]...\n",
      "Copying file://data/pq/yellow/2021/02/part-00003-9ed48562-17f0-4c05-a644-b90132452413-c000.snappy.parquet [Content-Type=application/octet-stream]...\n",
      "Copying file://data/pq/yellow/2021/01/._SUCCESS.crc [Content-Type=application/octet-stream]...\n",
      "Copying file://data/pq/yellow/2021/01/.part-00001-f50366e6-eee7-44e1-a41a-6ae52eb1eaed-c000.snappy.parquet.crc [Content-Type=application/octet-stream]...\n",
      "Copying file://data/pq/yellow/2021/01/.part-00003-f50366e6-eee7-44e1-a41a-6ae52eb1eaed-c000.snappy.parquet.crc [Content-Type=application/octet-stream]...\n",
      "Copying file://data/pq/yellow/2021/01/_SUCCESS [Content-Type=application/octet-stream]...\n",
      "Copying file://data/pq/yellow/2021/01/part-00001-f50366e6-eee7-44e1-a41a-6ae52eb1eaed-c000.snappy.parquet [Content-Type=application/octet-stream]...\n",
      "Copying file://data/pq/yellow/2021/01/.part-00000-f50366e6-eee7-44e1-a41a-6ae52eb1eaed-c000.snappy.parquet.crc [Content-Type=application/octet-stream]...\n",
      "Copying file://data/pq/yellow/2021/01/part-00000-f50366e6-eee7-44e1-a41a-6ae52eb1eaed-c000.snappy.parquet [Content-Type=application/octet-stream]...\n",
      "Copying file://data/pq/yellow/2021/01/part-00003-f50366e6-eee7-44e1-a41a-6ae52eb1eaed-c000.snappy.parquet [Content-Type=application/octet-stream]...\n",
      "Copying file://data/pq/yellow/2021/01/.part-00002-f50366e6-eee7-44e1-a41a-6ae52eb1eaed-c000.snappy.parquet.crc [Content-Type=application/octet-stream]...\n",
      "Copying file://data/pq/yellow/2021/01/part-00002-f50366e6-eee7-44e1-a41a-6ae52eb1eaed-c000.snappy.parquet [Content-Type=application/octet-stream]...\n",
      "Copying file://data/pq/yellow/2021/08/._SUCCESS.crc [Content-Type=application/octet-stream]...\n",
      "Copying file://data/pq/yellow/2021/08/_SUCCESS [Content-Type=application/octet-stream]...\n",
      "Copying file://data/pq/yellow/2021/08/part-00000-c4f0e472-4ff1-4f16-ba1b-edf9e3ffe9d3-c000.snappy.parquet [Content-Type=application/octet-stream]...\n",
      "Copying file://data/pq/yellow/2021/08/.part-00000-c4f0e472-4ff1-4f16-ba1b-edf9e3ffe9d3-c000.snappy.parquet.crc [Content-Type=application/octet-stream]...\n",
      "Copying file://data/pq/yellow/2021/07/._SUCCESS.crc [Content-Type=application/octet-stream]...\n",
      "Copying file://data/pq/yellow/2021/07/part-00003-a12242be-1efe-4485-bd59-1833ca5679dd-c000.snappy.parquet [Content-Type=application/octet-stream]...\n",
      "Copying file://data/pq/yellow/2021/07/part-00000-a12242be-1efe-4485-bd59-1833ca5679dd-c000.snappy.parquet [Content-Type=application/octet-stream]...\n",
      "Copying file://data/pq/yellow/2021/07/_SUCCESS [Content-Type=application/octet-stream]...\n",
      "Copying file://data/pq/yellow/2021/07/part-00001-a12242be-1efe-4485-bd59-1833ca5679dd-c000.snappy.parquet [Content-Type=application/octet-stream]...\n",
      "Copying file://data/pq/yellow/2021/07/.part-00000-a12242be-1efe-4485-bd59-1833ca5679dd-c000.snappy.parquet.crc [Content-Type=application/octet-stream]...\n",
      "Copying file://data/pq/yellow/2021/07/.part-00003-a12242be-1efe-4485-bd59-1833ca5679dd-c000.snappy.parquet.crc [Content-Type=application/octet-stream]...\n",
      "Copying file://data/pq/yellow/2021/07/.part-00002-a12242be-1efe-4485-bd59-1833ca5679dd-c000.snappy.parquet.crc [Content-Type=application/octet-stream]...\n",
      "Copying file://data/pq/yellow/2021/07/part-00002-a12242be-1efe-4485-bd59-1833ca5679dd-c000.snappy.parquet [Content-Type=application/octet-stream]...\n",
      "Copying file://data/pq/yellow/2021/07/.part-00001-a12242be-1efe-4485-bd59-1833ca5679dd-c000.snappy.parquet.crc [Content-Type=application/octet-stream]...\n",
      "Copying file://data/pq/yellow/2020/11/._SUCCESS.crc [Content-Type=application/octet-stream]...\n",
      "Copying file://data/pq/yellow/2020/11/part-00003-4bf56a20-fb57-4233-8e90-724490336a2b-c000.snappy.parquet [Content-Type=application/octet-stream]...\n",
      "Copying file://data/pq/yellow/2020/11/.part-00002-4bf56a20-fb57-4233-8e90-724490336a2b-c000.snappy.parquet.crc [Content-Type=application/octet-stream]...\n",
      "Copying file://data/pq/yellow/2020/11/_SUCCESS [Content-Type=application/octet-stream]...\n",
      "Copying file://data/pq/yellow/2020/11/part-00002-4bf56a20-fb57-4233-8e90-724490336a2b-c000.snappy.parquet [Content-Type=application/octet-stream]...\n",
      "Copying file://data/pq/yellow/2020/11/.part-00000-4bf56a20-fb57-4233-8e90-724490336a2b-c000.snappy.parquet.crc [Content-Type=application/octet-stream]...\n",
      "Copying file://data/pq/yellow/2020/11/.part-00001-4bf56a20-fb57-4233-8e90-724490336a2b-c000.snappy.parquet.crc [Content-Type=application/octet-stream]...\n",
      "Copying file://data/pq/yellow/2020/11/part-00000-4bf56a20-fb57-4233-8e90-724490336a2b-c000.snappy.parquet [Content-Type=application/octet-stream]...\n",
      "Copying file://data/pq/yellow/2020/11/part-00001-4bf56a20-fb57-4233-8e90-724490336a2b-c000.snappy.parquet [Content-Type=application/octet-stream]...\n",
      "Copying file://data/pq/yellow/2020/11/.part-00003-4bf56a20-fb57-4233-8e90-724490336a2b-c000.snappy.parquet.crc [Content-Type=application/octet-stream]...\n",
      "Copying file://data/pq/yellow/2020/04/._SUCCESS.crc [Content-Type=application/octet-stream]...\n",
      "Copying file://data/pq/yellow/2020/04/.part-00003-d721adbd-011c-40a4-92e7-3cdcb95d5317-c000.snappy.parquet.crc [Content-Type=application/octet-stream]...\n",
      "Copying file://data/pq/yellow/2020/04/part-00003-d721adbd-011c-40a4-92e7-3cdcb95d5317-c000.snappy.parquet [Content-Type=application/octet-stream]...\n",
      "Copying file://data/pq/yellow/2020/04/.part-00000-d721adbd-011c-40a4-92e7-3cdcb95d5317-c000.snappy.parquet.crc [Content-Type=application/octet-stream]...\n",
      "Copying file://data/pq/yellow/2020/04/part-00000-d721adbd-011c-40a4-92e7-3cdcb95d5317-c000.snappy.parquet [Content-Type=application/octet-stream]...\n",
      "Copying file://data/pq/yellow/2020/04/_SUCCESS [Content-Type=application/octet-stream]...\n",
      "Copying file://data/pq/yellow/2020/04/part-00001-d721adbd-011c-40a4-92e7-3cdcb95d5317-c000.snappy.parquet [Content-Type=application/octet-stream]...\n",
      "Copying file://data/pq/yellow/2020/04/part-00002-d721adbd-011c-40a4-92e7-3cdcb95d5317-c000.snappy.parquet [Content-Type=application/octet-stream]...\n",
      "Copying file://data/pq/yellow/2020/04/.part-00001-d721adbd-011c-40a4-92e7-3cdcb95d5317-c000.snappy.parquet.crc [Content-Type=application/octet-stream]...\n",
      "Copying file://data/pq/yellow/2020/04/.part-00002-d721adbd-011c-40a4-92e7-3cdcb95d5317-c000.snappy.parquet.crc [Content-Type=application/octet-stream]...\n",
      "Copying file://data/pq/yellow/2020/06/._SUCCESS.crc [Content-Type=application/octet-stream]...\n",
      "Copying file://data/pq/yellow/2020/06/part-00002-1e913d59-4768-4b00-89bc-6bbea6a28328-c000.snappy.parquet [Content-Type=application/octet-stream]...\n",
      "Copying file://data/pq/yellow/2020/06/.part-00000-1e913d59-4768-4b00-89bc-6bbea6a28328-c000.snappy.parquet.crc [Content-Type=application/octet-stream]...\n",
      "Copying file://data/pq/yellow/2020/06/_SUCCESS [Content-Type=application/octet-stream]...\n",
      "Copying file://data/pq/yellow/2020/06/part-00001-1e913d59-4768-4b00-89bc-6bbea6a28328-c000.snappy.parquet [Content-Type=application/octet-stream]...\n",
      "Copying file://data/pq/yellow/2020/06/.part-00001-1e913d59-4768-4b00-89bc-6bbea6a28328-c000.snappy.parquet.crc [Content-Type=application/octet-stream]...\n",
      "Copying file://data/pq/yellow/2020/06/part-00003-1e913d59-4768-4b00-89bc-6bbea6a28328-c000.snappy.parquet [Content-Type=application/octet-stream]...\n",
      "Copying file://data/pq/yellow/2020/06/part-00000-1e913d59-4768-4b00-89bc-6bbea6a28328-c000.snappy.parquet [Content-Type=application/octet-stream]...\n",
      "Copying file://data/pq/yellow/2020/06/.part-00002-1e913d59-4768-4b00-89bc-6bbea6a28328-c000.snappy.parquet.crc [Content-Type=application/octet-stream]...\n",
      "Copying file://data/pq/yellow/2020/06/.part-00003-1e913d59-4768-4b00-89bc-6bbea6a28328-c000.snappy.parquet.crc [Content-Type=application/octet-stream]...\n"
     ]
    },
    {
     "name": "stdout",
     "output_type": "stream",
     "text": [
      "Copying file://data/pq/yellow/2020/10/._SUCCESS.crc [Content-Type=application/octet-stream]...\n",
      "Copying file://data/pq/yellow/2020/10/.part-00000-89b66cb1-433a-43f6-8a47-cf50e65c9652-c000.snappy.parquet.crc [Content-Type=application/octet-stream]...\n",
      "Copying file://data/pq/yellow/2020/10/.part-00003-89b66cb1-433a-43f6-8a47-cf50e65c9652-c000.snappy.parquet.crc [Content-Type=application/octet-stream]...\n",
      "Copying file://data/pq/yellow/2020/10/part-00002-89b66cb1-433a-43f6-8a47-cf50e65c9652-c000.snappy.parquet [Content-Type=application/octet-stream]...\n",
      "Copying file://data/pq/yellow/2020/10/part-00003-89b66cb1-433a-43f6-8a47-cf50e65c9652-c000.snappy.parquet [Content-Type=application/octet-stream]...\n",
      "Copying file://data/pq/yellow/2020/10/part-00001-89b66cb1-433a-43f6-8a47-cf50e65c9652-c000.snappy.parquet [Content-Type=application/octet-stream]...\n",
      "Copying file://data/pq/yellow/2020/10/part-00000-89b66cb1-433a-43f6-8a47-cf50e65c9652-c000.snappy.parquet [Content-Type=application/octet-stream]...\n",
      "Copying file://data/pq/yellow/2020/10/_SUCCESS [Content-Type=application/octet-stream]...\n",
      "Copying file://data/pq/yellow/2020/10/.part-00001-89b66cb1-433a-43f6-8a47-cf50e65c9652-c000.snappy.parquet.crc [Content-Type=application/octet-stream]...\n",
      "Copying file://data/pq/yellow/2020/10/.part-00002-89b66cb1-433a-43f6-8a47-cf50e65c9652-c000.snappy.parquet.crc [Content-Type=application/octet-stream]...\n",
      "Copying file://data/pq/yellow/2020/12/._SUCCESS.crc [Content-Type=application/octet-stream]...\n",
      "Copying file://data/pq/yellow/2020/12/part-00002-fd39088c-3294-4b7f-a3de-fe16f4265161-c000.snappy.parquet [Content-Type=application/octet-stream]...\n",
      "Copying file://data/pq/yellow/2020/12/.part-00003-fd39088c-3294-4b7f-a3de-fe16f4265161-c000.snappy.parquet.crc [Content-Type=application/octet-stream]...\n",
      "Copying file://data/pq/yellow/2020/12/.part-00000-fd39088c-3294-4b7f-a3de-fe16f4265161-c000.snappy.parquet.crc [Content-Type=application/octet-stream]...\n",
      "Copying file://data/pq/yellow/2020/12/_SUCCESS [Content-Type=application/octet-stream]...\n",
      "Copying file://data/pq/yellow/2020/12/part-00001-fd39088c-3294-4b7f-a3de-fe16f4265161-c000.snappy.parquet [Content-Type=application/octet-stream]...\n",
      "Copying file://data/pq/yellow/2020/12/.part-00002-fd39088c-3294-4b7f-a3de-fe16f4265161-c000.snappy.parquet.crc [Content-Type=application/octet-stream]...\n",
      "Copying file://data/pq/yellow/2020/12/part-00000-fd39088c-3294-4b7f-a3de-fe16f4265161-c000.snappy.parquet [Content-Type=application/octet-stream]...\n",
      "Copying file://data/pq/yellow/2020/12/part-00003-fd39088c-3294-4b7f-a3de-fe16f4265161-c000.snappy.parquet [Content-Type=application/octet-stream]...\n",
      "Copying file://data/pq/yellow/2020/12/.part-00001-fd39088c-3294-4b7f-a3de-fe16f4265161-c000.snappy.parquet.crc [Content-Type=application/octet-stream]...\n",
      "Copying file://data/pq/yellow/2020/03/._SUCCESS.crc [Content-Type=application/octet-stream]...\n",
      "Copying file://data/pq/yellow/2020/03/part-00003-eae93306-0202-4fe0-b98e-0f94f6a2fdb0-c000.snappy.parquet [Content-Type=application/octet-stream]...\n",
      "Copying file://data/pq/yellow/2020/03/part-00000-eae93306-0202-4fe0-b98e-0f94f6a2fdb0-c000.snappy.parquet [Content-Type=application/octet-stream]...\n",
      "Copying file://data/pq/yellow/2020/03/.part-00000-eae93306-0202-4fe0-b98e-0f94f6a2fdb0-c000.snappy.parquet.crc [Content-Type=application/octet-stream]...\n",
      "Copying file://data/pq/yellow/2020/03/_SUCCESS [Content-Type=application/octet-stream]...\n",
      "Copying file://data/pq/yellow/2020/03/.part-00003-eae93306-0202-4fe0-b98e-0f94f6a2fdb0-c000.snappy.parquet.crc [Content-Type=application/octet-stream]...\n",
      "Copying file://data/pq/yellow/2020/03/.part-00001-eae93306-0202-4fe0-b98e-0f94f6a2fdb0-c000.snappy.parquet.crc [Content-Type=application/octet-stream]...\n",
      "Copying file://data/pq/yellow/2020/03/part-00002-eae93306-0202-4fe0-b98e-0f94f6a2fdb0-c000.snappy.parquet [Content-Type=application/octet-stream]...\n",
      "Copying file://data/pq/yellow/2020/03/.part-00002-eae93306-0202-4fe0-b98e-0f94f6a2fdb0-c000.snappy.parquet.crc [Content-Type=application/octet-stream]...\n",
      "Copying file://data/pq/yellow/2020/03/part-00001-eae93306-0202-4fe0-b98e-0f94f6a2fdb0-c000.snappy.parquet [Content-Type=application/octet-stream]...\n",
      "Copying file://data/pq/yellow/2020/05/._SUCCESS.crc [Content-Type=application/octet-stream]...\n",
      "Copying file://data/pq/yellow/2020/05/part-00000-305b00bc-9a07-4aca-b441-d26bb5d9d6a1-c000.snappy.parquet [Content-Type=application/octet-stream]...\n",
      "Copying file://data/pq/yellow/2020/05/.part-00003-305b00bc-9a07-4aca-b441-d26bb5d9d6a1-c000.snappy.parquet.crc [Content-Type=application/octet-stream]...\n",
      "Copying file://data/pq/yellow/2020/05/.part-00002-305b00bc-9a07-4aca-b441-d26bb5d9d6a1-c000.snappy.parquet.crc [Content-Type=application/octet-stream]...\n",
      "Copying file://data/pq/yellow/2020/05/.part-00000-305b00bc-9a07-4aca-b441-d26bb5d9d6a1-c000.snappy.parquet.crc [Content-Type=application/octet-stream]...\n",
      "Copying file://data/pq/yellow/2020/05/_SUCCESS [Content-Type=application/octet-stream]...\n",
      "Copying file://data/pq/yellow/2020/05/part-00003-305b00bc-9a07-4aca-b441-d26bb5d9d6a1-c000.snappy.parquet [Content-Type=application/octet-stream]...\n",
      "Copying file://data/pq/yellow/2020/05/.part-00001-305b00bc-9a07-4aca-b441-d26bb5d9d6a1-c000.snappy.parquet.crc [Content-Type=application/octet-stream]...\n",
      "Copying file://data/pq/yellow/2020/05/part-00002-305b00bc-9a07-4aca-b441-d26bb5d9d6a1-c000.snappy.parquet [Content-Type=application/octet-stream]...\n",
      "Copying file://data/pq/yellow/2020/05/part-00001-305b00bc-9a07-4aca-b441-d26bb5d9d6a1-c000.snappy.parquet [Content-Type=application/octet-stream]...\n",
      "Copying file://data/pq/yellow/2020/09/._SUCCESS.crc [Content-Type=application/octet-stream]...\n",
      "Copying file://data/pq/yellow/2020/09/.part-00001-15210fca-4752-4d2b-9d2a-438a48a4bedd-c000.snappy.parquet.crc [Content-Type=application/octet-stream]...\n",
      "Copying file://data/pq/yellow/2020/09/_SUCCESS [Content-Type=application/octet-stream]...\n",
      "Copying file://data/pq/yellow/2020/09/.part-00000-15210fca-4752-4d2b-9d2a-438a48a4bedd-c000.snappy.parquet.crc [Content-Type=application/octet-stream]...\n",
      "Copying file://data/pq/yellow/2020/09/.part-00003-15210fca-4752-4d2b-9d2a-438a48a4bedd-c000.snappy.parquet.crc [Content-Type=application/octet-stream]...\n",
      "Copying file://data/pq/yellow/2020/09/part-00003-15210fca-4752-4d2b-9d2a-438a48a4bedd-c000.snappy.parquet [Content-Type=application/octet-stream]...\n",
      "Copying file://data/pq/yellow/2020/09/.part-00002-15210fca-4752-4d2b-9d2a-438a48a4bedd-c000.snappy.parquet.crc [Content-Type=application/octet-stream]...\n",
      "Copying file://data/pq/yellow/2020/09/part-00000-15210fca-4752-4d2b-9d2a-438a48a4bedd-c000.snappy.parquet [Content-Type=application/octet-stream]...\n",
      "Copying file://data/pq/yellow/2020/09/part-00002-15210fca-4752-4d2b-9d2a-438a48a4bedd-c000.snappy.parquet [Content-Type=application/octet-stream]...\n",
      "Copying file://data/pq/yellow/2020/09/part-00001-15210fca-4752-4d2b-9d2a-438a48a4bedd-c000.snappy.parquet [Content-Type=application/octet-stream]...\n",
      "Copying file://data/pq/yellow/2020/02/._SUCCESS.crc [Content-Type=application/octet-stream]...\n",
      "Copying file://data/pq/yellow/2020/02/part-00001-8628b2c1-da06-42a9-801f-ccba3e8a9ca4-c000.snappy.parquet [Content-Type=application/octet-stream]...\n",
      "Copying file://data/pq/yellow/2020/02/part-00003-8628b2c1-da06-42a9-801f-ccba3e8a9ca4-c000.snappy.parquet [Content-Type=application/octet-stream]...\n",
      "Copying file://data/pq/yellow/2020/02/.part-00000-8628b2c1-da06-42a9-801f-ccba3e8a9ca4-c000.snappy.parquet.crc [Content-Type=application/octet-stream]...\n",
      "Copying file://data/pq/yellow/2020/02/.part-00003-8628b2c1-da06-42a9-801f-ccba3e8a9ca4-c000.snappy.parquet.crc [Content-Type=application/octet-stream]...\n",
      "Copying file://data/pq/yellow/2020/02/part-00002-8628b2c1-da06-42a9-801f-ccba3e8a9ca4-c000.snappy.parquet [Content-Type=application/octet-stream]...\n",
      "Copying file://data/pq/yellow/2020/02/_SUCCESS [Content-Type=application/octet-stream]...\n",
      "Copying file://data/pq/yellow/2020/02/.part-00001-8628b2c1-da06-42a9-801f-ccba3e8a9ca4-c000.snappy.parquet.crc [Content-Type=application/octet-stream]...\n",
      "Copying file://data/pq/yellow/2020/02/.part-00002-8628b2c1-da06-42a9-801f-ccba3e8a9ca4-c000.snappy.parquet.crc [Content-Type=application/octet-stream]...\n"
     ]
    },
    {
     "name": "stdout",
     "output_type": "stream",
     "text": [
      "Copying file://data/pq/yellow/2020/02/part-00000-8628b2c1-da06-42a9-801f-ccba3e8a9ca4-c000.snappy.parquet [Content-Type=application/octet-stream]...\n",
      "Copying file://data/pq/yellow/2020/01/._SUCCESS.crc [Content-Type=application/octet-stream]...\n",
      "Copying file://data/pq/yellow/2020/01/part-00003-2a6debb0-6d45-4e99-9b88-1d58f8fa3c70-c000.snappy.parquet [Content-Type=application/octet-stream]...\n",
      "Copying file://data/pq/yellow/2020/01/part-00002-2a6debb0-6d45-4e99-9b88-1d58f8fa3c70-c000.snappy.parquet [Content-Type=application/octet-stream]...\n",
      "Copying file://data/pq/yellow/2020/01/.part-00002-2a6debb0-6d45-4e99-9b88-1d58f8fa3c70-c000.snappy.parquet.crc [Content-Type=application/octet-stream]...\n",
      "Copying file://data/pq/yellow/2020/01/.part-00003-2a6debb0-6d45-4e99-9b88-1d58f8fa3c70-c000.snappy.parquet.crc [Content-Type=application/octet-stream]...\n",
      "Copying file://data/pq/yellow/2020/01/part-00000-2a6debb0-6d45-4e99-9b88-1d58f8fa3c70-c000.snappy.parquet [Content-Type=application/octet-stream]...\n",
      "Copying file://data/pq/yellow/2020/01/_SUCCESS [Content-Type=application/octet-stream]...\n",
      "Copying file://data/pq/yellow/2020/01/part-00001-2a6debb0-6d45-4e99-9b88-1d58f8fa3c70-c000.snappy.parquet [Content-Type=application/octet-stream]...\n",
      "Copying file://data/pq/yellow/2020/01/.part-00000-2a6debb0-6d45-4e99-9b88-1d58f8fa3c70-c000.snappy.parquet.crc [Content-Type=application/octet-stream]...\n",
      "Copying file://data/pq/yellow/2020/01/.part-00001-2a6debb0-6d45-4e99-9b88-1d58f8fa3c70-c000.snappy.parquet.crc [Content-Type=application/octet-stream]...\n",
      "Copying file://data/pq/yellow/2020/08/._SUCCESS.crc [Content-Type=application/octet-stream]...\n",
      "Copying file://data/pq/yellow/2020/08/.part-00003-c75348e9-853f-4fd6-ae88-a969d5210df1-c000.snappy.parquet.crc [Content-Type=application/octet-stream]...\n",
      "Copying file://data/pq/yellow/2020/08/_SUCCESS [Content-Type=application/octet-stream]...\n",
      "Copying file://data/pq/yellow/2020/08/.part-00002-c75348e9-853f-4fd6-ae88-a969d5210df1-c000.snappy.parquet.crc [Content-Type=application/octet-stream]...\n",
      "Copying file://data/pq/yellow/2020/08/part-00000-c75348e9-853f-4fd6-ae88-a969d5210df1-c000.snappy.parquet [Content-Type=application/octet-stream]...\n",
      "Copying file://data/pq/yellow/2020/08/.part-00001-c75348e9-853f-4fd6-ae88-a969d5210df1-c000.snappy.parquet.crc [Content-Type=application/octet-stream]...\n",
      "Copying file://data/pq/yellow/2020/08/part-00002-c75348e9-853f-4fd6-ae88-a969d5210df1-c000.snappy.parquet [Content-Type=application/octet-stream]...\n",
      "Copying file://data/pq/yellow/2020/08/part-00001-c75348e9-853f-4fd6-ae88-a969d5210df1-c000.snappy.parquet [Content-Type=application/octet-stream]...\n",
      "Copying file://data/pq/yellow/2020/08/.part-00000-c75348e9-853f-4fd6-ae88-a969d5210df1-c000.snappy.parquet.crc [Content-Type=application/octet-stream]...\n",
      "Copying file://data/pq/yellow/2020/08/part-00003-c75348e9-853f-4fd6-ae88-a969d5210df1-c000.snappy.parquet [Content-Type=application/octet-stream]...\n",
      "Copying file://data/pq/yellow/2020/07/._SUCCESS.crc [Content-Type=application/octet-stream]...\n",
      "Copying file://data/pq/yellow/2020/07/part-00003-0930ba88-e367-478e-ac44-242e2aa10360-c000.snappy.parquet [Content-Type=application/octet-stream]...\n",
      "Copying file://data/pq/yellow/2020/07/part-00000-0930ba88-e367-478e-ac44-242e2aa10360-c000.snappy.parquet [Content-Type=application/octet-stream]...\n",
      "Copying file://data/pq/yellow/2020/07/.part-00003-0930ba88-e367-478e-ac44-242e2aa10360-c000.snappy.parquet.crc [Content-Type=application/octet-stream]...\n",
      "Copying file://data/pq/yellow/2020/07/_SUCCESS [Content-Type=application/octet-stream]...\n",
      "Copying file://data/pq/yellow/2020/07/part-00001-0930ba88-e367-478e-ac44-242e2aa10360-c000.snappy.parquet [Content-Type=application/octet-stream]...\n",
      "Copying file://data/pq/yellow/2020/07/.part-00002-0930ba88-e367-478e-ac44-242e2aa10360-c000.snappy.parquet.crc [Content-Type=application/octet-stream]...\n",
      "Copying file://data/pq/yellow/2020/07/.part-00001-0930ba88-e367-478e-ac44-242e2aa10360-c000.snappy.parquet.crc [Content-Type=application/octet-stream]...\n",
      "Copying file://data/pq/yellow/2020/07/part-00002-0930ba88-e367-478e-ac44-242e2aa10360-c000.snappy.parquet [Content-Type=application/octet-stream]...\n",
      "Copying file://data/pq/yellow/2020/07/.part-00000-0930ba88-e367-478e-ac44-242e2aa10360-c000.snappy.parquet.crc [Content-Type=application/octet-stream]...\n",
      "- [388/388 files][  1.1 GiB/  1.1 GiB] 100% Done 105.4 MiB/s ETA 00:00:00       \n",
      "Operation completed over 388 objects/1.1 GiB.                                    \n"
     ]
    }
   ],
   "source": [
    "!gsutil -m cp -r data/pq gs://week02_02_gcp_bucket/week5/data/pq"
   ]
  },
  {
   "cell_type": "markdown",
   "id": "16aac243",
   "metadata": {},
   "source": [
    "### Let's connecto to the GCS"
   ]
  },
  {
   "cell_type": "code",
   "execution_count": 8,
   "id": "da3da712",
   "metadata": {},
   "outputs": [
    {
     "name": "stderr",
     "output_type": "stream",
     "text": [
      "                                                                                \r"
     ]
    }
   ],
   "source": [
    "# df_green = spark.read.parquet('data/pq/green/*/*') # data/pq/green/all_years/all_months\n",
    "df_green = spark.read.parquet('gs://week02_02_gcp_bucket/week5/data/pq/green/*/*') # data/pq/green/all_years/all_months"
   ]
  },
  {
   "cell_type": "code",
   "execution_count": null,
   "id": "8d407f01",
   "metadata": {},
   "outputs": [],
   "source": []
  },
  {
   "cell_type": "code",
   "execution_count": 9,
   "id": "5668b0f2",
   "metadata": {},
   "outputs": [
    {
     "name": "stderr",
     "output_type": "stream",
     "text": [
      "                                                                                \r"
     ]
    }
   ],
   "source": [
    "# df_yellow = spark.read.parquet('data/pq/yellow/*/*') # data/pq/yellow/all_years/all_months\n",
    "df_yellow = spark.read.parquet('gs://week02_02_gcp_bucket/week5/data/pq/yellow/*/*') # data/pq/yellow/all_years/all_months"
   ]
  },
  {
   "cell_type": "code",
   "execution_count": 10,
   "id": "c9dfd976",
   "metadata": {},
   "outputs": [
    {
     "name": "stdout",
     "output_type": "stream",
     "text": [
      "root\n",
      " |-- VendorID: integer (nullable = true)\n",
      " |-- lpep_pickup_datetime: timestamp (nullable = true)\n",
      " |-- lpep_dropoff_datetime: timestamp (nullable = true)\n",
      " |-- store_and_fwd_flag: string (nullable = true)\n",
      " |-- RatecodeID: integer (nullable = true)\n",
      " |-- PULocationID: integer (nullable = true)\n",
      " |-- DOLocationID: integer (nullable = true)\n",
      " |-- passenger_count: integer (nullable = true)\n",
      " |-- trip_distance: double (nullable = true)\n",
      " |-- fare_amount: double (nullable = true)\n",
      " |-- extra: double (nullable = true)\n",
      " |-- mta_tax: double (nullable = true)\n",
      " |-- tip_amount: double (nullable = true)\n",
      " |-- tolls_amount: double (nullable = true)\n",
      " |-- ehail_fee: double (nullable = true)\n",
      " |-- improvement_surcharge: double (nullable = true)\n",
      " |-- total_amount: double (nullable = true)\n",
      " |-- payment_type: integer (nullable = true)\n",
      " |-- trip_type: integer (nullable = true)\n",
      " |-- congestion_surcharge: double (nullable = true)\n",
      "\n"
     ]
    }
   ],
   "source": [
    "df_green.printSchema()"
   ]
  },
  {
   "cell_type": "code",
   "execution_count": 11,
   "id": "764038c2",
   "metadata": {},
   "outputs": [
    {
     "name": "stdout",
     "output_type": "stream",
     "text": [
      "root\n",
      " |-- VendorID: integer (nullable = true)\n",
      " |-- tpep_pickup_datetime: timestamp (nullable = true)\n",
      " |-- tpep_dropoff_datetime: timestamp (nullable = true)\n",
      " |-- passenger_count: integer (nullable = true)\n",
      " |-- trip_distance: double (nullable = true)\n",
      " |-- RatecodeID: integer (nullable = true)\n",
      " |-- store_and_fwd_flag: string (nullable = true)\n",
      " |-- PULocationID: integer (nullable = true)\n",
      " |-- DOLocationID: integer (nullable = true)\n",
      " |-- payment_type: integer (nullable = true)\n",
      " |-- fare_amount: double (nullable = true)\n",
      " |-- extra: double (nullable = true)\n",
      " |-- mta_tax: double (nullable = true)\n",
      " |-- tip_amount: double (nullable = true)\n",
      " |-- tolls_amount: double (nullable = true)\n",
      " |-- improvement_surcharge: double (nullable = true)\n",
      " |-- total_amount: double (nullable = true)\n",
      " |-- congestion_surcharge: double (nullable = true)\n",
      "\n"
     ]
    }
   ],
   "source": [
    "df_yellow.printSchema()"
   ]
  },
  {
   "cell_type": "code",
   "execution_count": 20,
   "id": "7839a7e8",
   "metadata": {},
   "outputs": [
    {
     "name": "stderr",
     "output_type": "stream",
     "text": [
      "                                                                                \r"
     ]
    },
    {
     "data": {
      "text/plain": [
       "2304517"
      ]
     },
     "execution_count": 20,
     "metadata": {},
     "output_type": "execute_result"
    }
   ],
   "source": [
    "df_green.count()"
   ]
  },
  {
   "cell_type": "code",
   "execution_count": 21,
   "id": "f2255524",
   "metadata": {},
   "outputs": [
    {
     "name": "stderr",
     "output_type": "stream",
     "text": [
      "                                                                                \r"
     ]
    },
    {
     "data": {
      "text/plain": [
       "39649199"
      ]
     },
     "execution_count": 21,
     "metadata": {},
     "output_type": "execute_result"
    }
   ],
   "source": [
    "df_yellow.count()"
   ]
  }
 ],
 "metadata": {
  "kernelspec": {
   "display_name": "Python 3 (ipykernel)",
   "language": "python",
   "name": "python3"
  },
  "language_info": {
   "codemirror_mode": {
    "name": "ipython",
    "version": 3
   },
   "file_extension": ".py",
   "mimetype": "text/x-python",
   "name": "python",
   "nbconvert_exporter": "python",
   "pygments_lexer": "ipython3",
   "version": "3.9.13"
  }
 },
 "nbformat": 4,
 "nbformat_minor": 5
}
